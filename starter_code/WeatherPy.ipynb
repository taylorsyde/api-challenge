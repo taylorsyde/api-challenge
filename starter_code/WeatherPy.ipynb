{
 "cells": [
  {
   "cell_type": "markdown",
   "metadata": {},
   "source": [
    "# WeatherPy\n",
    "----\n",
    "\n",
    "#### Note\n",
    "* Instructions have been included for each segment. You do not have to follow them exactly, but they are included to help you think through the steps."
   ]
  },
  {
   "cell_type": "code",
   "execution_count": 1,
   "metadata": {
    "scrolled": true
   },
   "outputs": [],
   "source": [
    "# Dependencies and Setup\n",
    "import matplotlib.pyplot as plt\n",
    "import pandas as pd\n",
    "import numpy as np\n",
    "import requests\n",
    "import time\n",
    "from scipy import stats\n",
    "\n",
    "# Import API key\n",
    "from api_keys import weather_api_key\n",
    "\n",
    "# Incorporated citipy to determine city based on latitude and longitude\n",
    "from citipy import citipy\n",
    "\n",
    "# Output File (CSV)\n",
    "output_data_file = \"output_data/cities.csv\"\n",
    "\n",
    "# Range of latitudes and longitudes\n",
    "lat_range = (-90, 90)\n",
    "lng_range = (-180, 180)"
   ]
  },
  {
   "cell_type": "markdown",
   "metadata": {},
   "source": [
    "## Generate Cities List"
   ]
  },
  {
   "cell_type": "code",
   "execution_count": 2,
   "metadata": {},
   "outputs": [
    {
     "data": {
      "text/plain": [
       "598"
      ]
     },
     "execution_count": 2,
     "metadata": {},
     "output_type": "execute_result"
    }
   ],
   "source": [
    "# List for holding lat_lngs and cities\n",
    "lat_lngs = []\n",
    "cities = []\n",
    "\n",
    "# Create a set of random lat and lng combinations\n",
    "lats = np.random.uniform(lat_range[0], lat_range[1], size=1500)\n",
    "lngs = np.random.uniform(lng_range[0], lng_range[1], size=1500)\n",
    "lat_lngs = zip(lats, lngs)\n",
    "\n",
    "# Identify nearest city for each lat, lng combination\n",
    "for lat_lng in lat_lngs:\n",
    "    city = citipy.nearest_city(lat_lng[0], lat_lng[1]).city_name\n",
    "    \n",
    "    # If the city is unique, then add it to a our cities list\n",
    "    if city not in cities:\n",
    "        cities.append(city)\n",
    "\n",
    "# Print the city count to confirm sufficient count\n",
    "len(cities)"
   ]
  },
  {
   "cell_type": "markdown",
   "metadata": {},
   "source": [
    "### Perform API Calls\n",
    "* Perform a weather check on each city using a series of successive API calls.\n",
    "* Include a print log of each city as it'sbeing processed (with the city number and city name).\n"
   ]
  },
  {
   "cell_type": "code",
   "execution_count": 3,
   "metadata": {},
   "outputs": [],
   "source": [
    "# create empty lists to store data for dataframe\n",
    "city_list = []\n",
    "latitude = []\n",
    "longitude = []\n",
    "temp = []\n",
    "max_temp = []\n",
    "humidity = []\n",
    "cloudiness = []\n",
    "wind_speed = []"
   ]
  },
  {
   "cell_type": "code",
   "execution_count": 4,
   "metadata": {
    "scrolled": true
   },
   "outputs": [],
   "source": [
    "#create query url for loop\n",
    "units = 'imperial'\n",
    "query_url = f'http://api.openweathermap.org/data/2.5/weather?appid={weather_api_key}&units={units}&q='"
   ]
  },
  {
   "cell_type": "code",
   "execution_count": 5,
   "metadata": {},
   "outputs": [
    {
     "name": "stdout",
     "output_type": "stream",
     "text": [
      "Beginning Data Retrieval\n",
      "-----------------------------\n",
      "Processing Record 0| longyearbyen\n",
      "Processing Record 1| atuona\n",
      "Processing Record 2| avarua\n",
      "Processing Record 3| eureka\n",
      "tumannyy not found. Skipping.\n",
      "Processing Record 5| severo-kurilsk\n",
      "Processing Record 6| sioux lookout\n",
      "Processing Record 7| sitka\n",
      "tapaua not found. Skipping.\n",
      "Processing Record 9| airai\n",
      "Processing Record 10| klaksvik\n",
      "Processing Record 11| pisco\n",
      "Processing Record 12| port alfred\n",
      "Processing Record 13| manacapuru\n",
      "Processing Record 14| tasiilaq\n",
      "Processing Record 15| kapaa\n",
      "Processing Record 16| nieuw amsterdam\n",
      "Processing Record 17| punta arenas\n",
      "Processing Record 18| bubaque\n",
      "Processing Record 19| bathsheba\n",
      "Processing Record 20| lompoc\n",
      "Processing Record 21| pevek\n",
      "Processing Record 22| butaritari\n",
      "Processing Record 23| saint-philippe\n",
      "belushya guba not found. Skipping.\n",
      "Processing Record 25| saskylakh\n",
      "Processing Record 26| greymouth\n",
      "Processing Record 27| busselton\n",
      "Processing Record 28| kodiak\n",
      "Processing Record 29| dali\n",
      "Processing Record 30| ushuaia\n",
      "Processing Record 31| carnarvon\n",
      "Processing Record 32| mar del plata\n",
      "Processing Record 33| tura\n",
      "Processing Record 34| rikitea\n",
      "Processing Record 35| coihaique\n",
      "Processing Record 36| shashi\n",
      "attawapiskat not found. Skipping.\n",
      "Processing Record 38| vaini\n",
      "Processing Record 39| samarai\n",
      "Processing Record 40| arraial do cabo\n",
      "Processing Record 41| aklavik\n",
      "Processing Record 42| sioni\n",
      "saleaula not found. Skipping.\n",
      "Processing Record 44| red bluff\n",
      "Processing Record 45| manakara\n",
      "Processing Record 46| heinola\n",
      "taolanaro not found. Skipping.\n",
      "Processing Record 48| zyryanka\n",
      "Processing Record 49| shubarkuduk\n"
     ]
    }
   ],
   "source": [
    "print('Beginning Data Retrieval')\n",
    "print('-----------------------------')\n",
    "\n",
    "#create query url for loop\n",
    "query_url = f'http://api.openweathermap.org/data/2.5/weather?appid={weather_api_key}&units={units}&q='\n",
    "\n",
    "# loop through cities to collect currect weather data\n",
    "for city in cities:\n",
    "    # Create search query, make request and store in json\n",
    "    response_json = requests.get(query_url + city).json()\n",
    "    \n",
    "    # attempt to grab weather data from the cities\n",
    "    try:\n",
    "        latitude.append(response_json['coord']['lat'])\n",
    "        longitude.append(response_json['coord']['lon'])\n",
    "        temp.append(response_json['main']['temp'])\n",
    "        max_temp.append(response_json['main']['temp_max'])\n",
    "        humidity.append(response_json['main']['humidity'])\n",
    "        cloudiness.append(response_json['clouds']['all'])\n",
    "        wind_speed.append(response_json['wind']['speed'])\n",
    "        city_list.append(city)\n",
    "        #mass.append(response_json['results'][0]['mass'])\n",
    "        print(f'Processing Record {cities.index(city)}| {city}')\n",
    "        \n",
    "    # exceptions for a cities not found or errors\n",
    "    except:\n",
    "        print(f'{city} not found. Skipping.')\n",
    "        pass"
   ]
  },
  {
   "cell_type": "markdown",
   "metadata": {},
   "source": [
    "### Convert Raw Data to DataFrame\n",
    "* Export the city data into a .csv.\n",
    "* Display the DataFrame"
   ]
  },
  {
   "cell_type": "code",
   "execution_count": 6,
   "metadata": {},
   "outputs": [
    {
     "data": {
      "text/html": [
       "<div>\n",
       "<style scoped>\n",
       "    .dataframe tbody tr th:only-of-type {\n",
       "        vertical-align: middle;\n",
       "    }\n",
       "\n",
       "    .dataframe tbody tr th {\n",
       "        vertical-align: top;\n",
       "    }\n",
       "\n",
       "    .dataframe thead th {\n",
       "        text-align: right;\n",
       "    }\n",
       "</style>\n",
       "<table border=\"1\" class=\"dataframe\">\n",
       "  <thead>\n",
       "    <tr style=\"text-align: right;\">\n",
       "      <th></th>\n",
       "      <th>Latitude</th>\n",
       "      <th>Longitude</th>\n",
       "      <th>Temperature (F)</th>\n",
       "      <th>Max Temp (F)</th>\n",
       "      <th>Humidity (%)</th>\n",
       "      <th>Cloudiness (%)</th>\n",
       "      <th>Wind Speed (mph)</th>\n",
       "    </tr>\n",
       "    <tr>\n",
       "      <th>City</th>\n",
       "      <th></th>\n",
       "      <th></th>\n",
       "      <th></th>\n",
       "      <th></th>\n",
       "      <th></th>\n",
       "      <th></th>\n",
       "      <th></th>\n",
       "    </tr>\n",
       "  </thead>\n",
       "  <tbody>\n",
       "    <tr>\n",
       "      <th>longyearbyen</th>\n",
       "      <td>78.2186</td>\n",
       "      <td>15.6401</td>\n",
       "      <td>44.44</td>\n",
       "      <td>44.44</td>\n",
       "      <td>87</td>\n",
       "      <td>0</td>\n",
       "      <td>6.91</td>\n",
       "    </tr>\n",
       "    <tr>\n",
       "      <th>atuona</th>\n",
       "      <td>-9.8000</td>\n",
       "      <td>-139.0333</td>\n",
       "      <td>77.81</td>\n",
       "      <td>77.81</td>\n",
       "      <td>70</td>\n",
       "      <td>14</td>\n",
       "      <td>21.65</td>\n",
       "    </tr>\n",
       "    <tr>\n",
       "      <th>avarua</th>\n",
       "      <td>-21.2078</td>\n",
       "      <td>-159.7750</td>\n",
       "      <td>80.65</td>\n",
       "      <td>80.65</td>\n",
       "      <td>74</td>\n",
       "      <td>2</td>\n",
       "      <td>4.61</td>\n",
       "    </tr>\n",
       "    <tr>\n",
       "      <th>eureka</th>\n",
       "      <td>40.8021</td>\n",
       "      <td>-124.1637</td>\n",
       "      <td>63.59</td>\n",
       "      <td>63.93</td>\n",
       "      <td>72</td>\n",
       "      <td>29</td>\n",
       "      <td>5.01</td>\n",
       "    </tr>\n",
       "    <tr>\n",
       "      <th>severo-kurilsk</th>\n",
       "      <td>50.6789</td>\n",
       "      <td>156.1250</td>\n",
       "      <td>56.59</td>\n",
       "      <td>56.59</td>\n",
       "      <td>72</td>\n",
       "      <td>1</td>\n",
       "      <td>5.73</td>\n",
       "    </tr>\n",
       "    <tr>\n",
       "      <th>sioux lookout</th>\n",
       "      <td>50.1001</td>\n",
       "      <td>-91.9170</td>\n",
       "      <td>77.36</td>\n",
       "      <td>77.36</td>\n",
       "      <td>36</td>\n",
       "      <td>48</td>\n",
       "      <td>14.52</td>\n",
       "    </tr>\n",
       "    <tr>\n",
       "      <th>sitka</th>\n",
       "      <td>57.0531</td>\n",
       "      <td>-135.3300</td>\n",
       "      <td>58.89</td>\n",
       "      <td>58.89</td>\n",
       "      <td>77</td>\n",
       "      <td>90</td>\n",
       "      <td>11.50</td>\n",
       "    </tr>\n",
       "    <tr>\n",
       "      <th>airai</th>\n",
       "      <td>-8.9266</td>\n",
       "      <td>125.4092</td>\n",
       "      <td>61.38</td>\n",
       "      <td>61.38</td>\n",
       "      <td>76</td>\n",
       "      <td>73</td>\n",
       "      <td>3.13</td>\n",
       "    </tr>\n",
       "    <tr>\n",
       "      <th>klaksvik</th>\n",
       "      <td>62.2266</td>\n",
       "      <td>-6.5890</td>\n",
       "      <td>49.12</td>\n",
       "      <td>49.12</td>\n",
       "      <td>86</td>\n",
       "      <td>98</td>\n",
       "      <td>4.23</td>\n",
       "    </tr>\n",
       "    <tr>\n",
       "      <th>pisco</th>\n",
       "      <td>-13.7000</td>\n",
       "      <td>-76.2167</td>\n",
       "      <td>62.65</td>\n",
       "      <td>63.01</td>\n",
       "      <td>77</td>\n",
       "      <td>0</td>\n",
       "      <td>18.41</td>\n",
       "    </tr>\n",
       "    <tr>\n",
       "      <th>port alfred</th>\n",
       "      <td>-33.5906</td>\n",
       "      <td>26.8910</td>\n",
       "      <td>55.29</td>\n",
       "      <td>55.29</td>\n",
       "      <td>70</td>\n",
       "      <td>0</td>\n",
       "      <td>10.36</td>\n",
       "    </tr>\n",
       "    <tr>\n",
       "      <th>manacapuru</th>\n",
       "      <td>-3.2997</td>\n",
       "      <td>-60.6206</td>\n",
       "      <td>86.58</td>\n",
       "      <td>86.58</td>\n",
       "      <td>63</td>\n",
       "      <td>54</td>\n",
       "      <td>2.17</td>\n",
       "    </tr>\n",
       "    <tr>\n",
       "      <th>tasiilaq</th>\n",
       "      <td>65.6145</td>\n",
       "      <td>-37.6368</td>\n",
       "      <td>51.96</td>\n",
       "      <td>51.96</td>\n",
       "      <td>95</td>\n",
       "      <td>100</td>\n",
       "      <td>6.11</td>\n",
       "    </tr>\n",
       "    <tr>\n",
       "      <th>kapaa</th>\n",
       "      <td>22.0752</td>\n",
       "      <td>-159.3190</td>\n",
       "      <td>84.07</td>\n",
       "      <td>86.32</td>\n",
       "      <td>66</td>\n",
       "      <td>20</td>\n",
       "      <td>1.99</td>\n",
       "    </tr>\n",
       "    <tr>\n",
       "      <th>nieuw amsterdam</th>\n",
       "      <td>5.8833</td>\n",
       "      <td>-55.0833</td>\n",
       "      <td>80.62</td>\n",
       "      <td>80.76</td>\n",
       "      <td>78</td>\n",
       "      <td>40</td>\n",
       "      <td>4.61</td>\n",
       "    </tr>\n",
       "    <tr>\n",
       "      <th>punta arenas</th>\n",
       "      <td>-53.1500</td>\n",
       "      <td>-70.9167</td>\n",
       "      <td>39.31</td>\n",
       "      <td>39.31</td>\n",
       "      <td>70</td>\n",
       "      <td>75</td>\n",
       "      <td>19.57</td>\n",
       "    </tr>\n",
       "    <tr>\n",
       "      <th>bubaque</th>\n",
       "      <td>11.2833</td>\n",
       "      <td>-15.8333</td>\n",
       "      <td>80.40</td>\n",
       "      <td>80.40</td>\n",
       "      <td>78</td>\n",
       "      <td>100</td>\n",
       "      <td>11.05</td>\n",
       "    </tr>\n",
       "    <tr>\n",
       "      <th>bathsheba</th>\n",
       "      <td>13.2167</td>\n",
       "      <td>-59.5167</td>\n",
       "      <td>79.41</td>\n",
       "      <td>79.41</td>\n",
       "      <td>89</td>\n",
       "      <td>20</td>\n",
       "      <td>5.75</td>\n",
       "    </tr>\n",
       "    <tr>\n",
       "      <th>lompoc</th>\n",
       "      <td>34.6391</td>\n",
       "      <td>-120.4579</td>\n",
       "      <td>73.20</td>\n",
       "      <td>88.21</td>\n",
       "      <td>63</td>\n",
       "      <td>1</td>\n",
       "      <td>16.11</td>\n",
       "    </tr>\n",
       "    <tr>\n",
       "      <th>pevek</th>\n",
       "      <td>69.7008</td>\n",
       "      <td>170.3133</td>\n",
       "      <td>36.97</td>\n",
       "      <td>36.97</td>\n",
       "      <td>85</td>\n",
       "      <td>73</td>\n",
       "      <td>11.12</td>\n",
       "    </tr>\n",
       "    <tr>\n",
       "      <th>butaritari</th>\n",
       "      <td>3.0707</td>\n",
       "      <td>172.7902</td>\n",
       "      <td>83.82</td>\n",
       "      <td>83.82</td>\n",
       "      <td>64</td>\n",
       "      <td>18</td>\n",
       "      <td>13.73</td>\n",
       "    </tr>\n",
       "    <tr>\n",
       "      <th>saint-philippe</th>\n",
       "      <td>-21.3585</td>\n",
       "      <td>55.7679</td>\n",
       "      <td>65.52</td>\n",
       "      <td>67.55</td>\n",
       "      <td>84</td>\n",
       "      <td>22</td>\n",
       "      <td>7.58</td>\n",
       "    </tr>\n",
       "    <tr>\n",
       "      <th>saskylakh</th>\n",
       "      <td>71.9167</td>\n",
       "      <td>114.0833</td>\n",
       "      <td>58.80</td>\n",
       "      <td>58.80</td>\n",
       "      <td>72</td>\n",
       "      <td>75</td>\n",
       "      <td>5.19</td>\n",
       "    </tr>\n",
       "    <tr>\n",
       "      <th>greymouth</th>\n",
       "      <td>-42.4667</td>\n",
       "      <td>171.2000</td>\n",
       "      <td>52.84</td>\n",
       "      <td>52.84</td>\n",
       "      <td>80</td>\n",
       "      <td>53</td>\n",
       "      <td>1.68</td>\n",
       "    </tr>\n",
       "    <tr>\n",
       "      <th>busselton</th>\n",
       "      <td>-33.6500</td>\n",
       "      <td>115.3333</td>\n",
       "      <td>44.04</td>\n",
       "      <td>45.09</td>\n",
       "      <td>74</td>\n",
       "      <td>100</td>\n",
       "      <td>10.76</td>\n",
       "    </tr>\n",
       "    <tr>\n",
       "      <th>kodiak</th>\n",
       "      <td>57.7900</td>\n",
       "      <td>-152.4072</td>\n",
       "      <td>69.31</td>\n",
       "      <td>69.31</td>\n",
       "      <td>40</td>\n",
       "      <td>1</td>\n",
       "      <td>6.91</td>\n",
       "    </tr>\n",
       "    <tr>\n",
       "      <th>dali</th>\n",
       "      <td>25.7000</td>\n",
       "      <td>100.1833</td>\n",
       "      <td>64.49</td>\n",
       "      <td>64.49</td>\n",
       "      <td>96</td>\n",
       "      <td>100</td>\n",
       "      <td>2.13</td>\n",
       "    </tr>\n",
       "    <tr>\n",
       "      <th>ushuaia</th>\n",
       "      <td>-54.8000</td>\n",
       "      <td>-68.3000</td>\n",
       "      <td>37.06</td>\n",
       "      <td>37.06</td>\n",
       "      <td>75</td>\n",
       "      <td>40</td>\n",
       "      <td>32.21</td>\n",
       "    </tr>\n",
       "    <tr>\n",
       "      <th>carnarvon</th>\n",
       "      <td>-24.8667</td>\n",
       "      <td>113.6333</td>\n",
       "      <td>55.38</td>\n",
       "      <td>55.38</td>\n",
       "      <td>64</td>\n",
       "      <td>0</td>\n",
       "      <td>17.92</td>\n",
       "    </tr>\n",
       "    <tr>\n",
       "      <th>mar del plata</th>\n",
       "      <td>-38.0023</td>\n",
       "      <td>-57.5575</td>\n",
       "      <td>41.97</td>\n",
       "      <td>41.97</td>\n",
       "      <td>72</td>\n",
       "      <td>19</td>\n",
       "      <td>3.22</td>\n",
       "    </tr>\n",
       "    <tr>\n",
       "      <th>tura</th>\n",
       "      <td>25.5198</td>\n",
       "      <td>90.2201</td>\n",
       "      <td>75.00</td>\n",
       "      <td>75.00</td>\n",
       "      <td>98</td>\n",
       "      <td>100</td>\n",
       "      <td>6.55</td>\n",
       "    </tr>\n",
       "    <tr>\n",
       "      <th>rikitea</th>\n",
       "      <td>-23.1203</td>\n",
       "      <td>-134.9692</td>\n",
       "      <td>70.59</td>\n",
       "      <td>70.59</td>\n",
       "      <td>66</td>\n",
       "      <td>21</td>\n",
       "      <td>13.06</td>\n",
       "    </tr>\n",
       "    <tr>\n",
       "      <th>coihaique</th>\n",
       "      <td>-45.5752</td>\n",
       "      <td>-72.0662</td>\n",
       "      <td>39.15</td>\n",
       "      <td>39.15</td>\n",
       "      <td>81</td>\n",
       "      <td>0</td>\n",
       "      <td>0.00</td>\n",
       "    </tr>\n",
       "    <tr>\n",
       "      <th>shashi</th>\n",
       "      <td>30.3072</td>\n",
       "      <td>112.2447</td>\n",
       "      <td>75.81</td>\n",
       "      <td>75.81</td>\n",
       "      <td>95</td>\n",
       "      <td>100</td>\n",
       "      <td>4.09</td>\n",
       "    </tr>\n",
       "    <tr>\n",
       "      <th>vaini</th>\n",
       "      <td>-21.2000</td>\n",
       "      <td>-175.2000</td>\n",
       "      <td>69.96</td>\n",
       "      <td>69.96</td>\n",
       "      <td>78</td>\n",
       "      <td>75</td>\n",
       "      <td>17.27</td>\n",
       "    </tr>\n",
       "    <tr>\n",
       "      <th>samarai</th>\n",
       "      <td>-10.6167</td>\n",
       "      <td>150.6667</td>\n",
       "      <td>78.28</td>\n",
       "      <td>78.28</td>\n",
       "      <td>86</td>\n",
       "      <td>42</td>\n",
       "      <td>17.00</td>\n",
       "    </tr>\n",
       "    <tr>\n",
       "      <th>arraial do cabo</th>\n",
       "      <td>-22.9661</td>\n",
       "      <td>-42.0278</td>\n",
       "      <td>70.52</td>\n",
       "      <td>70.52</td>\n",
       "      <td>84</td>\n",
       "      <td>30</td>\n",
       "      <td>23.04</td>\n",
       "    </tr>\n",
       "    <tr>\n",
       "      <th>aklavik</th>\n",
       "      <td>68.2191</td>\n",
       "      <td>-135.0107</td>\n",
       "      <td>53.60</td>\n",
       "      <td>53.60</td>\n",
       "      <td>76</td>\n",
       "      <td>90</td>\n",
       "      <td>8.05</td>\n",
       "    </tr>\n",
       "    <tr>\n",
       "      <th>sioni</th>\n",
       "      <td>41.9895</td>\n",
       "      <td>45.0239</td>\n",
       "      <td>68.36</td>\n",
       "      <td>68.36</td>\n",
       "      <td>82</td>\n",
       "      <td>100</td>\n",
       "      <td>0.47</td>\n",
       "    </tr>\n",
       "    <tr>\n",
       "      <th>red bluff</th>\n",
       "      <td>40.1785</td>\n",
       "      <td>-122.2358</td>\n",
       "      <td>103.98</td>\n",
       "      <td>107.69</td>\n",
       "      <td>15</td>\n",
       "      <td>1</td>\n",
       "      <td>9.22</td>\n",
       "    </tr>\n",
       "    <tr>\n",
       "      <th>manakara</th>\n",
       "      <td>-22.1333</td>\n",
       "      <td>48.0167</td>\n",
       "      <td>64.49</td>\n",
       "      <td>64.49</td>\n",
       "      <td>91</td>\n",
       "      <td>43</td>\n",
       "      <td>5.84</td>\n",
       "    </tr>\n",
       "    <tr>\n",
       "      <th>heinola</th>\n",
       "      <td>61.2056</td>\n",
       "      <td>26.0381</td>\n",
       "      <td>55.49</td>\n",
       "      <td>55.49</td>\n",
       "      <td>91</td>\n",
       "      <td>15</td>\n",
       "      <td>3.98</td>\n",
       "    </tr>\n",
       "    <tr>\n",
       "      <th>zyryanka</th>\n",
       "      <td>65.7500</td>\n",
       "      <td>150.8500</td>\n",
       "      <td>73.80</td>\n",
       "      <td>73.80</td>\n",
       "      <td>40</td>\n",
       "      <td>32</td>\n",
       "      <td>9.71</td>\n",
       "    </tr>\n",
       "    <tr>\n",
       "      <th>shubarkuduk</th>\n",
       "      <td>49.1447</td>\n",
       "      <td>56.4872</td>\n",
       "      <td>75.94</td>\n",
       "      <td>75.94</td>\n",
       "      <td>36</td>\n",
       "      <td>24</td>\n",
       "      <td>2.66</td>\n",
       "    </tr>\n",
       "  </tbody>\n",
       "</table>\n",
       "</div>"
      ],
      "text/plain": [
       "                 Latitude  Longitude  Temperature (F)  Max Temp (F)  \\\n",
       "City                                                                  \n",
       "longyearbyen      78.2186    15.6401            44.44         44.44   \n",
       "atuona            -9.8000  -139.0333            77.81         77.81   \n",
       "avarua           -21.2078  -159.7750            80.65         80.65   \n",
       "eureka            40.8021  -124.1637            63.59         63.93   \n",
       "severo-kurilsk    50.6789   156.1250            56.59         56.59   \n",
       "sioux lookout     50.1001   -91.9170            77.36         77.36   \n",
       "sitka             57.0531  -135.3300            58.89         58.89   \n",
       "airai             -8.9266   125.4092            61.38         61.38   \n",
       "klaksvik          62.2266    -6.5890            49.12         49.12   \n",
       "pisco            -13.7000   -76.2167            62.65         63.01   \n",
       "port alfred      -33.5906    26.8910            55.29         55.29   \n",
       "manacapuru        -3.2997   -60.6206            86.58         86.58   \n",
       "tasiilaq          65.6145   -37.6368            51.96         51.96   \n",
       "kapaa             22.0752  -159.3190            84.07         86.32   \n",
       "nieuw amsterdam    5.8833   -55.0833            80.62         80.76   \n",
       "punta arenas     -53.1500   -70.9167            39.31         39.31   \n",
       "bubaque           11.2833   -15.8333            80.40         80.40   \n",
       "bathsheba         13.2167   -59.5167            79.41         79.41   \n",
       "lompoc            34.6391  -120.4579            73.20         88.21   \n",
       "pevek             69.7008   170.3133            36.97         36.97   \n",
       "butaritari         3.0707   172.7902            83.82         83.82   \n",
       "saint-philippe   -21.3585    55.7679            65.52         67.55   \n",
       "saskylakh         71.9167   114.0833            58.80         58.80   \n",
       "greymouth        -42.4667   171.2000            52.84         52.84   \n",
       "busselton        -33.6500   115.3333            44.04         45.09   \n",
       "kodiak            57.7900  -152.4072            69.31         69.31   \n",
       "dali              25.7000   100.1833            64.49         64.49   \n",
       "ushuaia          -54.8000   -68.3000            37.06         37.06   \n",
       "carnarvon        -24.8667   113.6333            55.38         55.38   \n",
       "mar del plata    -38.0023   -57.5575            41.97         41.97   \n",
       "tura              25.5198    90.2201            75.00         75.00   \n",
       "rikitea          -23.1203  -134.9692            70.59         70.59   \n",
       "coihaique        -45.5752   -72.0662            39.15         39.15   \n",
       "shashi            30.3072   112.2447            75.81         75.81   \n",
       "vaini            -21.2000  -175.2000            69.96         69.96   \n",
       "samarai          -10.6167   150.6667            78.28         78.28   \n",
       "arraial do cabo  -22.9661   -42.0278            70.52         70.52   \n",
       "aklavik           68.2191  -135.0107            53.60         53.60   \n",
       "sioni             41.9895    45.0239            68.36         68.36   \n",
       "red bluff         40.1785  -122.2358           103.98        107.69   \n",
       "manakara         -22.1333    48.0167            64.49         64.49   \n",
       "heinola           61.2056    26.0381            55.49         55.49   \n",
       "zyryanka          65.7500   150.8500            73.80         73.80   \n",
       "shubarkuduk       49.1447    56.4872            75.94         75.94   \n",
       "\n",
       "                 Humidity (%)  Cloudiness (%)  Wind Speed (mph)  \n",
       "City                                                             \n",
       "longyearbyen               87               0              6.91  \n",
       "atuona                     70              14             21.65  \n",
       "avarua                     74               2              4.61  \n",
       "eureka                     72              29              5.01  \n",
       "severo-kurilsk             72               1              5.73  \n",
       "sioux lookout              36              48             14.52  \n",
       "sitka                      77              90             11.50  \n",
       "airai                      76              73              3.13  \n",
       "klaksvik                   86              98              4.23  \n",
       "pisco                      77               0             18.41  \n",
       "port alfred                70               0             10.36  \n",
       "manacapuru                 63              54              2.17  \n",
       "tasiilaq                   95             100              6.11  \n",
       "kapaa                      66              20              1.99  \n",
       "nieuw amsterdam            78              40              4.61  \n",
       "punta arenas               70              75             19.57  \n",
       "bubaque                    78             100             11.05  \n",
       "bathsheba                  89              20              5.75  \n",
       "lompoc                     63               1             16.11  \n",
       "pevek                      85              73             11.12  \n",
       "butaritari                 64              18             13.73  \n",
       "saint-philippe             84              22              7.58  \n",
       "saskylakh                  72              75              5.19  \n",
       "greymouth                  80              53              1.68  \n",
       "busselton                  74             100             10.76  \n",
       "kodiak                     40               1              6.91  \n",
       "dali                       96             100              2.13  \n",
       "ushuaia                    75              40             32.21  \n",
       "carnarvon                  64               0             17.92  \n",
       "mar del plata              72              19              3.22  \n",
       "tura                       98             100              6.55  \n",
       "rikitea                    66              21             13.06  \n",
       "coihaique                  81               0              0.00  \n",
       "shashi                     95             100              4.09  \n",
       "vaini                      78              75             17.27  \n",
       "samarai                    86              42             17.00  \n",
       "arraial do cabo            84              30             23.04  \n",
       "aklavik                    76              90              8.05  \n",
       "sioni                      82             100              0.47  \n",
       "red bluff                  15               1              9.22  \n",
       "manakara                   91              43              5.84  \n",
       "heinola                    91              15              3.98  \n",
       "zyryanka                   40              32              9.71  \n",
       "shubarkuduk                36              24              2.66  "
      ]
     },
     "execution_count": 6,
     "metadata": {},
     "output_type": "execute_result"
    }
   ],
   "source": [
    "# Create DataFrame\n",
    "weather_data = pd.DataFrame({\n",
    "    'City': city_list,\n",
    "    'Latitude': latitude,\n",
    "    'Longitude': longitude,\n",
    "    'Temperature (F)': temp,\n",
    "    'Max Temp (F)': max_temp,\n",
    "    'Humidity (%)': humidity,\n",
    "    'Cloudiness (%)': cloudiness,\n",
    "    'Wind Speed (mph)': wind_speed\n",
    "})\n",
    "\n",
    "#set the city to the index and display\n",
    "weather_data = weather_data.set_index('City')\n",
    "weather_data.head(10)"
   ]
  },
  {
   "cell_type": "markdown",
   "metadata": {},
   "source": [
    "## Inspect the data and remove the cities where the humidity > 100%.\n",
    "----\n",
    "Skip this step if there are no cities that have humidity > 100%. "
   ]
  },
  {
   "cell_type": "code",
   "execution_count": 7,
   "metadata": {},
   "outputs": [],
   "source": [
    "clean_weather_data = weather_data.loc[(weather_data['Humidity (%)'] < 100),:]\n",
    "\n",
    "#export clean data to csv\n",
    "clean_weather_data.to_csv('../Output/clean_weather_data.csv')"
   ]
  },
  {
   "cell_type": "markdown",
   "metadata": {},
   "source": [
    "## Plotting the Data\n",
    "* Use proper labeling of the plots using plot titles (including date of analysis) and axes labels.\n",
    "* Save the plotted figures as .pngs."
   ]
  },
  {
   "cell_type": "markdown",
   "metadata": {},
   "source": [
    "## Latitude vs. Temperature Plot"
   ]
  },
  {
   "cell_type": "code",
   "execution_count": 8,
   "metadata": {
    "scrolled": true
   },
   "outputs": [
    {
     "data": {
      "image/png": "[encoded data removed]",
      "text/plain": [
       "<Figure size 648x432 with 1 Axes>"
      ]
     },
     "metadata": {
      "needs_background": "light"
     },
     "output_type": "display_data"
    }
   ],
   "source": [
    "clean_weather_data.plot(kind='scatter', x='Latitude', y='Max Temp (F)', grid=True, figsize=(9,6),\n",
    "              title='City Latitude vs. Temperature', s=25, alpha=0.8, xlim=(-60,90),color='purple')\n",
    "\n",
    "plt.savefig('../Output/lat_v_temp', pad_inches=0.1, facecolor='w')\n",
    "#plt.show()"
   ]
  },
  {
   "cell_type": "markdown",
   "metadata": {},
   "source": [
    "## Latitude vs. Humidity Plot"
   ]
  },
  {
   "cell_type": "code",
   "execution_count": 9,
   "metadata": {},
   "outputs": [
    {
     "data": {
      "image/png": "[encoded data removed]",
      "text/plain": [
       "<Figure size 648x432 with 1 Axes>"
      ]
     },
     "metadata": {
      "needs_background": "light"
     },
     "output_type": "display_data"
    }
   ],
   "source": [
    "clean_weather_data.plot(kind='scatter', x='Latitude', y='Humidity (%)', grid=True, figsize=(9,6),\n",
    "              title='City Latitude vs. Humidity', s=25, alpha=0.8, xlim=(-60,90), color='purple')\n",
    "\n",
    "plt.savefig('../Output/lat_v_humidity', pad_inches=0.1, facecolor='w')\n",
    "#plt.show()"
   ]
  },
  {
   "cell_type": "markdown",
   "metadata": {},
   "source": [
    "## Latitude vs. Cloudiness Plot"
   ]
  },
  {
   "cell_type": "code",
   "execution_count": 10,
   "metadata": {},
   "outputs": [
    {
     "data": {
      "image/png": "[encoded data removed]",
      "text/plain": [
       "<Figure size 648x432 with 1 Axes>"
      ]
     },
     "metadata": {
      "needs_background": "light"
     },
     "output_type": "display_data"
    }
   ],
   "source": [
    "clean_weather_data.plot(kind='scatter', x='Latitude', y='Cloudiness (%)', grid=True, figsize=(9,6),\n",
    "              title='City Latitude vs. Cloudiness', s=25, alpha=0.8, xlim=(-60,90), color='purple')\n",
    "\n",
    "plt.savefig('../Output/lat_v_clouds', pad_inches=0.1, facecolor='w')\n",
    "#plt.show()"
   ]
  },
  {
   "cell_type": "markdown",
   "metadata": {},
   "source": [
    "## Latitude vs. Wind Speed Plot"
   ]
  },
  {
   "cell_type": "code",
   "execution_count": 11,
   "metadata": {},
   "outputs": [
    {
     "data": {
      "image/png": "[encoded data removed]",
      "text/plain": [
       "<Figure size 648x432 with 1 Axes>"
      ]
     },
     "metadata": {
      "needs_background": "light"
     },
     "output_type": "display_data"
    }
   ],
   "source": [
    "clean_weather_data.plot(kind='scatter', x='Latitude', y='Wind Speed (mph)', grid=True, figsize=(9,6),\n",
    "              title='City Latitude vs. Wind Speed', s=25, alpha=0.8, xlim=(-60,90),color='purple')\n",
    "\n",
    "plt.savefig('../Output/lat_v_wind', pad_inches=0.1, facecolor='w')\n",
    "#plt.show()"
   ]
  },
  {
   "cell_type": "markdown",
   "metadata": {},
   "source": [
    "## Linear Regression"
   ]
  },
  {
   "cell_type": "code",
   "execution_count": 12,
   "metadata": {},
   "outputs": [],
   "source": [
    "#create dataframes for Northen and Southern Hemispheres\n",
    "n_hemi = clean_weather_data.loc[(clean_weather_data['Latitude'] > 0),:]\n",
    "s_hemi = clean_weather_data.loc[(clean_weather_data['Latitude'] < 0),:]\n"
   ]
  },
  {
   "cell_type": "code",
   "execution_count": 38,
   "metadata": {},
   "outputs": [],
   "source": [
    "# create a function for create the scatter plot\n",
    "def quick_scatter(x_series, y_series, region):\n",
    "    #plot scatter\n",
    "    y_label = y_series.name\n",
    "    plt.scatter(x_series,y_series)\n",
    "    plt.xlabel('Latitude')\n",
    "    plt.ylabel(y_series.name)\n",
    "    plt.title(f'{y_series.name} v.s Latitude in the {region}ern Hemisphere')\n",
    "    #gather regression data\n",
    "    (slope, intercept, rvalue, pvalue, stderr) = stats.linregress(x_series, y_series)\n",
    "    regress_values = x_series * slope + intercept\n",
    "    plt.plot(x_series,regress_values,color=\"red\")\n",
    "    line_eq = \"y = \" + str(round(slope,2)) + \"x +\" + str(round(intercept,2))\n",
    "    plt.show()\n",
    "    print(f'line of best fit: {line_eq}.')\n",
    "    print(f'correlation: {rvalue}')\n",
    "    print('-----------------------------')"
   ]
  },
  {
   "cell_type": "markdown",
   "metadata": {},
   "source": [
    "####  Northern Hemisphere - Max Temp vs. Latitude Linear Regression"
   ]
  },
  {
   "cell_type": "code",
   "execution_count": 39,
   "metadata": {},
   "outputs": [
    {
     "data": {
      "image/png": "[encoded data removed]",
      "text/plain": [
       "<Figure size 432x288 with 1 Axes>"
      ]
     },
     "metadata": {
      "needs_background": "light"
     },
     "output_type": "display_data"
    },
    {
     "name": "stdout",
     "output_type": "stream",
     "text": [
      "line of best fit: y = -0.5x +90.49.\n",
      "correlation: -0.688479252873856\n"
     ]
    }
   ],
   "source": [
    "quick_scatter(n_hemi['Latitude'],n_hemi['Max Temp (F)'], 'North')"
   ]
  },
  {
   "cell_type": "markdown",
   "metadata": {},
   "source": [
    "####  Southern Hemisphere - Max Temp vs. Latitude Linear Regression"
   ]
  },
  {
   "cell_type": "code",
   "execution_count": 35,
   "metadata": {},
   "outputs": [
    {
     "name": "stdout",
     "output_type": "stream",
     "text": [
      "line of best fit: y = 0.9x +84.68.\n",
      "correlation: 0.8769106422791155\n"
     ]
    },
    {
     "data": {
      "image/png": "[encoded data removed]",
      "text/plain": [
       "<Figure size 432x288 with 1 Axes>"
      ]
     },
     "metadata": {
      "needs_background": "light"
     },
     "output_type": "display_data"
    }
   ],
   "source": [
    "quick_scatter(s_hemi['Latitude'],s_hemi['Max Temp (F)'], 'South')"
   ]
  },
  {
   "cell_type": "markdown",
   "metadata": {},
   "source": [
    "####  Northern Hemisphere - Humidity (%) vs. Latitude Linear Regression"
   ]
  },
  {
   "cell_type": "code",
   "execution_count": 16,
   "metadata": {},
   "outputs": [
    {
     "name": "stdout",
     "output_type": "stream",
     "text": [
      "line of best fit: y = -0.08x +74.89.\n",
      "correlation: -0.0755670383393675\n"
     ]
    },
    {
     "data": {
      "image/png": "[encoded data removed]",
      "text/plain": [
       "<Figure size 432x288 with 1 Axes>"
      ]
     },
     "metadata": {
      "needs_background": "light"
     },
     "output_type": "display_data"
    }
   ],
   "source": [
    "quick_scatter(n_hemi['Latitude'],n_hemi['Humidity (%)'], 'North')"
   ]
  },
  {
   "cell_type": "markdown",
   "metadata": {},
   "source": [
    "####  Southern Hemisphere - Humidity (%) vs. Latitude Linear Regression"
   ]
  },
  {
   "cell_type": "code",
   "execution_count": 17,
   "metadata": {},
   "outputs": [
    {
     "name": "stdout",
     "output_type": "stream",
     "text": [
      "line of best fit: y = -0.0x +75.41.\n",
      "correlation: -0.00843311829753996\n"
     ]
    },
    {
     "data": {
      "image/png": "[encoded data removed]",
      "text/plain": [
       "<Figure size 432x288 with 1 Axes>"
      ]
     },
     "metadata": {
      "needs_background": "light"
     },
     "output_type": "display_data"
    }
   ],
   "source": [
    "quick_scatter(s_hemi['Latitude'],s_hemi['Humidity (%)'], 'South')"
   ]
  },
  {
   "cell_type": "markdown",
   "metadata": {},
   "source": [
    "####  Northern Hemisphere - Cloudiness (%) vs. Latitude Linear Regression"
   ]
  },
  {
   "cell_type": "code",
   "execution_count": 18,
   "metadata": {},
   "outputs": [
    {
     "name": "stdout",
     "output_type": "stream",
     "text": [
      "line of best fit: y = 0.05x +48.79.\n",
      "correlation: 0.028026029103341128\n"
     ]
    },
    {
     "data": {
      "image/png": "[encoded data removed]",
      "text/plain": [
       "<Figure size 432x288 with 1 Axes>"
      ]
     },
     "metadata": {
      "needs_background": "light"
     },
     "output_type": "display_data"
    }
   ],
   "source": [
    "quick_scatter(n_hemi['Latitude'],n_hemi['Cloudiness (%)'], 'North')"
   ]
  },
  {
   "cell_type": "markdown",
   "metadata": {},
   "source": [
    "####  Southern Hemisphere - Cloudiness (%) vs. Latitude Linear Regression"
   ]
  },
  {
   "cell_type": "code",
   "execution_count": 19,
   "metadata": {},
   "outputs": [
    {
     "name": "stdout",
     "output_type": "stream",
     "text": [
      "line of best fit: y = -0.14x +31.24.\n",
      "correlation: -0.06754770934501743\n"
     ]
    },
    {
     "data": {
      "image/png": "[encoded data removed]",
      "text/plain": [
       "<Figure size 432x288 with 1 Axes>"
      ]
     },
     "metadata": {
      "needs_background": "light"
     },
     "output_type": "display_data"
    }
   ],
   "source": [
    "quick_scatter(s_hemi['Latitude'],s_hemi['Cloudiness (%)'], 'South')"
   ]
  },
  {
   "cell_type": "markdown",
   "metadata": {},
   "source": [
    "####  Northern Hemisphere - Wind Speed (mph) vs. Latitude Linear Regression"
   ]
  },
  {
   "cell_type": "code",
   "execution_count": 36,
   "metadata": {},
   "outputs": [
    {
     "name": "stdout",
     "output_type": "stream",
     "text": [
      "line of best fit: y = -0.0x +7.16.\n",
      "correlation: -0.008321713317631466\n"
     ]
    },
    {
     "data": {
      "image/png": "[encoded data removed]",
      "text/plain": [
       "<Figure size 432x288 with 1 Axes>"
      ]
     },
     "metadata": {
      "needs_background": "light"
     },
     "output_type": "display_data"
    }
   ],
   "source": [
    "quick_scatter(n_hemi['Latitude'],n_hemi['Wind Speed (mph)'], 'North')"
   ]
  },
  {
   "cell_type": "markdown",
   "metadata": {},
   "source": [
    "####  Southern Hemisphere - Wind Speed (mph) vs. Latitude Linear Regression"
   ]
  },
  {
   "cell_type": "code",
   "execution_count": 37,
   "metadata": {},
   "outputs": [
    {
     "name": "stdout",
     "output_type": "stream",
     "text": [
      "line of best fit: y = -0.08x +9.92.\n",
      "correlation: -0.13669756152549403\n"
     ]
    },
    {
     "data": {
      "image/png": "[encoded data removed]",
      "text/plain": [
       "<Figure size 432x288 with 1 Axes>"
      ]
     },
     "metadata": {
      "needs_background": "light"
     },
     "output_type": "display_data"
    }
   ],
   "source": [
    "quick_scatter(s_hemi['Latitude'],s_hemi['Wind Speed (mph)'], 'South')"
   ]
  }
 ],
 "metadata": {
  "anaconda-cloud": {},
  "kernel_info": {
   "name": "python3"
  },
  "kernelspec": {
   "display_name": "Python 3",
   "language": "python",
   "name": "python3"
  },
  "language_info": {
   "codemirror_mode": {
    "name": "ipython",
    "version": 3
   },
   "file_extension": ".py",
   "mimetype": "text/x-python",
   "name": "python",
   "nbconvert_exporter": "python",
   "pygments_lexer": "ipython3",
   "version": "3.8.8"
  },
  "latex_envs": {
   "LaTeX_envs_menu_present": true,
   "autoclose": false,
   "autocomplete": true,
   "bibliofile": "biblio.bib",
   "cite_by": "apalike",
   "current_citInitial": 1,
   "eqLabelWithNumbers": true,
   "eqNumInitial": 1,
   "hotkeys": {
    "equation": "Ctrl-E",
    "itemize": "Ctrl-I"
   },
   "labels_anchors": false,
   "latex_user_defs": false,
   "report_style_numbering": false,
   "user_envs_cfg": false
  },
  "nteract": {
   "version": "0.12.3"
  }
 },
 "nbformat": 4,
 "nbformat_minor": 2
}
