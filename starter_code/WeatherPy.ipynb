{
 "cells": [
  {
   "cell_type": "markdown",
   "metadata": {},
   "source": [
    "# WeatherPy\n",
    "----\n",
    "\n",
    "#### Note\n",
    "* Instructions have been included for each segment. You do not have to follow them exactly, but they are included to help you think through the steps."
   ]
  },
  {
   "cell_type": "code",
   "execution_count": 1,
   "metadata": {
    "scrolled": true
   },
   "outputs": [],
   "source": [
    "# Dependencies and Setup\n",
    "import matplotlib.pyplot as plt\n",
    "import pandas as pd\n",
    "import numpy as np\n",
    "import requests\n",
    "import time\n",
    "from scipy.stats import linregress\n",
    "\n",
    "# Import API key\n",
    "from api_keys import weather_api_key\n",
    "\n",
    "# Incorporated citipy to determine city based on latitude and longitude\n",
    "from citipy import citipy\n",
    "\n",
    "# Output File (CSV)\n",
    "output_data_file = \"output_data/cities.csv\"\n",
    "\n",
    "# Range of latitudes and longitudes\n",
    "lat_range = (-90, 90)\n",
    "lng_range = (-180, 180)"
   ]
  },
  {
   "cell_type": "markdown",
   "metadata": {},
   "source": [
    "## Generate Cities List"
   ]
  },
  {
   "cell_type": "code",
   "execution_count": 2,
   "metadata": {},
   "outputs": [
    {
     "data": {
      "text/plain": [
       "579"
      ]
     },
     "execution_count": 2,
     "metadata": {},
     "output_type": "execute_result"
    }
   ],
   "source": [
    "# List for holding lat_lngs and cities\n",
    "lat_lngs = []\n",
    "cities = []\n",
    "\n",
    "# Create a set of random lat and lng combinations\n",
    "lats = np.random.uniform(lat_range[0], lat_range[1], size=1500)\n",
    "lngs = np.random.uniform(lng_range[0], lng_range[1], size=1500)\n",
    "lat_lngs = zip(lats, lngs)\n",
    "\n",
    "# Identify nearest city for each lat, lng combination\n",
    "for lat_lng in lat_lngs:\n",
    "    city = citipy.nearest_city(lat_lng[0], lat_lng[1]).city_name\n",
    "    \n",
    "    # If the city is unique, then add it to a our cities list\n",
    "    if city not in cities:\n",
    "        cities.append(city)\n",
    "\n",
    "# Print the city count to confirm sufficient count\n",
    "len(cities)"
   ]
  },
  {
   "cell_type": "markdown",
   "metadata": {},
   "source": [
    "### Perform API Calls\n",
    "* Perform a weather check on each city using a series of successive API calls.\n",
    "* Include a print log of each city as it'sbeing processed (with the city number and city name).\n"
   ]
  },
  {
   "cell_type": "code",
   "execution_count": 3,
   "metadata": {},
   "outputs": [],
   "source": [
    "# create empty lists to store data for dataframe\n",
    "city_list = []\n",
    "latitude = []\n",
    "temp = []\n",
    "max_temp = []\n",
    "humidity = []\n",
    "cloudiness = []\n",
    "wind_speed = []"
   ]
  },
  {
   "cell_type": "code",
   "execution_count": 4,
   "metadata": {
    "scrolled": true
   },
   "outputs": [],
   "source": [
    "#create query url for loop\n",
    "units = 'metric'\n",
    "query_url = f'http://api.openweathermap.org/data/2.5/weather?appid={weather_api_key}&units={units}&q='"
   ]
  },
  {
   "cell_type": "code",
   "execution_count": 5,
   "metadata": {},
   "outputs": [
    {
     "data": {
      "text/plain": [
       "29.11"
      ]
     },
     "execution_count": 5,
     "metadata": {},
     "output_type": "execute_result"
    }
   ],
   "source": [
    "test_response = requests.get(query_url + 'houston').json()\n",
    "test_response['main']['temp_max']"
   ]
  },
  {
   "cell_type": "code",
   "execution_count": 6,
   "metadata": {},
   "outputs": [
    {
     "name": "stdout",
     "output_type": "stream",
     "text": [
      "Beginning Data Retrieval\n",
      "-----------------------------\n",
      "Processing Record 0 of Set 1 | romny\n",
      "Processing Record 1 of Set 1 | ponta delgada\n",
      "attawapiskat not found. Skipping.\n",
      "Processing Record 3 of Set 1 | machico\n",
      "Processing Record 4 of Set 1 | albany\n",
      "Processing Record 5 of Set 1 | camopi\n",
      "Processing Record 6 of Set 1 | ushuaia\n",
      "Processing Record 7 of Set 1 | cape town\n",
      "Processing Record 8 of Set 1 | garcia\n",
      "Processing Record 9 of Set 1 | chokurdakh\n",
      "Processing Record 10 of Set 1 | vaini\n",
      "Processing Record 11 of Set 1 | hermanus\n",
      "solovetskiy not found. Skipping.\n",
      "Processing Record 13 of Set 1 | egvekinot\n",
      "Processing Record 14 of Set 1 | atuona\n",
      "Processing Record 15 of Set 1 | kahului\n",
      "Processing Record 16 of Set 1 | aksu\n",
      "Processing Record 17 of Set 1 | hobart\n",
      "Processing Record 18 of Set 1 | aklavik\n",
      "Processing Record 19 of Set 1 | butaritari\n",
      "Processing Record 20 of Set 1 | ingham\n",
      "mys shmidta not found. Skipping.\n",
      "Processing Record 22 of Set 1 | busselton\n",
      "Processing Record 23 of Set 1 | ukiah\n",
      "Processing Record 24 of Set 1 | mataura\n",
      "Processing Record 25 of Set 1 | kapaa\n",
      "Processing Record 26 of Set 1 | katangli\n",
      "Processing Record 27 of Set 1 | ponta do sol\n",
      "yirol not found. Skipping.\n",
      "Processing Record 29 of Set 1 | varhaug\n",
      "Processing Record 30 of Set 1 | punta arenas\n",
      "Processing Record 31 of Set 1 | hobyo\n",
      "Processing Record 32 of Set 1 | puerto ayora\n",
      "Processing Record 33 of Set 1 | longyearbyen\n",
      "Processing Record 34 of Set 1 | biak\n",
      "Processing Record 35 of Set 1 | alta floresta\n",
      "Processing Record 36 of Set 1 | petropavlovsk-kamchatskiy\n",
      "Processing Record 37 of Set 1 | aketi\n",
      "Processing Record 38 of Set 1 | gravdal\n",
      "Processing Record 39 of Set 1 | port alfred\n",
      "Processing Record 40 of Set 1 | yaguajay\n",
      "Processing Record 41 of Set 1 | eyl\n",
      "Processing Record 42 of Set 1 | ust-maya\n",
      "Processing Record 43 of Set 1 | husavik\n",
      "Processing Record 44 of Set 1 | moose factory\n",
      "Processing Record 45 of Set 1 | victoria\n",
      "bajo baudo not found. Skipping.\n",
      "Processing Record 47 of Set 1 | boca do acre\n",
      "Processing Record 48 of Set 1 | dikson\n",
      "Processing Record 49 of Set 1 | new norfolk\n",
      "Processing Record 50 of Set 1 | manjacaze\n",
      "Processing Record 51 of Set 1 | morondava\n",
      "Processing Record 52 of Set 1 | kloulklubed\n",
      "Processing Record 53 of Set 1 | ahipara\n",
      "Processing Record 54 of Set 1 | saskylakh\n",
      "Processing Record 55 of Set 1 | clyde river\n",
      "belushya guba not found. Skipping.\n",
      "Processing Record 57 of Set 1 | carnarvon\n",
      "Processing Record 58 of Set 1 | svetlogorsk\n",
      "Processing Record 59 of Set 1 | deputatskiy\n",
      "amderma not found. Skipping.\n",
      "Processing Record 61 of Set 1 | jonkoping\n",
      "Processing Record 62 of Set 1 | hami\n",
      "Processing Record 63 of Set 1 | villaviciosa\n",
      "Processing Record 64 of Set 1 | naze\n",
      "Processing Record 65 of Set 1 | cayenne\n",
      "Processing Record 66 of Set 1 | rikitea\n",
      "rungata not found. Skipping.\n",
      "Processing Record 68 of Set 1 | provideniya\n",
      "Processing Record 69 of Set 1 | urubicha\n",
      "Processing Record 70 of Set 1 | khatanga\n",
      "Processing Record 71 of Set 1 | bengkulu\n",
      "Processing Record 72 of Set 1 | tambura\n",
      "coulihaut not found. Skipping.\n",
      "Processing Record 74 of Set 1 | east london\n",
      "Processing Record 75 of Set 1 | nhulunbuy\n",
      "Processing Record 76 of Set 1 | college\n",
      "nizhneyansk not found. Skipping.\n",
      "Processing Record 78 of Set 1 | bluff\n",
      "Processing Record 79 of Set 1 | mosquera\n",
      "Processing Record 80 of Set 1 | hervey bay\n",
      "samusu not found. Skipping.\n",
      "Processing Record 82 of Set 1 | boden\n",
      "Processing Record 83 of Set 1 | kuching\n",
      "Processing Record 84 of Set 1 | lebu\n",
      "Processing Record 85 of Set 1 | portland\n",
      "Processing Record 86 of Set 1 | nybro\n",
      "Processing Record 87 of Set 1 | san jose\n",
      "Processing Record 88 of Set 1 | tautira\n",
      "ust-kamchatsk not found. Skipping.\n",
      "Processing Record 90 of Set 1 | rundu\n",
      "Processing Record 91 of Set 1 | nikolskoye\n",
      "Processing Record 92 of Set 1 | chuy\n",
      "Processing Record 93 of Set 1 | tasiilaq\n",
      "Processing Record 94 of Set 1 | isangel\n",
      "Processing Record 95 of Set 1 | khasan\n",
      "Processing Record 96 of Set 1 | banamba\n",
      "taolanaro not found. Skipping.\n",
      "Processing Record 98 of Set 1 | la malbaie\n",
      "Processing Record 99 of Set 1 | yellowknife\n",
      "Processing Record 100 of Set 1 | jamestown\n",
      "Processing Record 101 of Set 1 | georgetown\n",
      "Processing Record 102 of Set 1 | okhotsk\n",
      "Processing Record 103 of Set 1 | bubaque\n",
      "Processing Record 104 of Set 1 | vardo\n",
      "Processing Record 105 of Set 1 | saint-philippe\n",
      "Processing Record 106 of Set 1 | olafsvik\n",
      "Processing Record 107 of Set 1 | vila velha\n",
      "Processing Record 108 of Set 1 | kabompo\n",
      "Processing Record 109 of Set 1 | bredasdorp\n",
      "Processing Record 110 of Set 1 | mopipi\n",
      "Processing Record 111 of Set 1 | podor\n",
      "Processing Record 112 of Set 1 | mar del plata\n",
      "Processing Record 113 of Set 1 | pella\n",
      "Processing Record 114 of Set 1 | castro\n",
      "Processing Record 115 of Set 1 | genhe\n",
      "Processing Record 116 of Set 1 | maracaibo\n",
      "Processing Record 117 of Set 1 | nome\n",
      "Processing Record 118 of Set 1 | margate\n",
      "Processing Record 119 of Set 1 | hilo\n",
      "Processing Record 120 of Set 1 | rochegda\n",
      "Processing Record 121 of Set 1 | quebo\n",
      "Processing Record 122 of Set 1 | shchelkun\n",
      "Processing Record 123 of Set 1 | antalaha\n",
      "Processing Record 124 of Set 1 | severnyy\n",
      "Processing Record 125 of Set 1 | bathsheba\n",
      "Processing Record 126 of Set 1 | rio grande\n",
      "Processing Record 127 of Set 1 | labuan\n",
      "Processing Record 128 of Set 1 | la asuncion\n",
      "Processing Record 129 of Set 1 | kafanchan\n",
      "Processing Record 130 of Set 1 | qaanaaq\n",
      "Processing Record 131 of Set 1 | crucea\n",
      "Processing Record 132 of Set 1 | tuktoyaktuk\n",
      "Processing Record 133 of Set 1 | chernyshevskiy\n",
      "Processing Record 134 of Set 1 | tiksi\n",
      "Processing Record 135 of Set 1 | sur\n",
      "bargal not found. Skipping.\n",
      "Processing Record 137 of Set 1 | broome\n",
      "Processing Record 138 of Set 1 | plettenberg bay\n",
      "Processing Record 139 of Set 1 | dingle\n",
      "Processing Record 140 of Set 1 | klaksvik\n",
      "Processing Record 141 of Set 1 | chilca\n",
      "Processing Record 142 of Set 1 | verkh-usugli\n",
      "khonuu not found. Skipping.\n",
      "Processing Record 144 of Set 1 | mahebourg\n",
      "Processing Record 145 of Set 1 | arraial do cabo\n",
      "Processing Record 146 of Set 1 | faanui\n",
      "gorno-chuyskiy not found. Skipping.\n",
      "Processing Record 148 of Set 1 | saldanha\n",
      "Processing Record 149 of Set 1 | pinerovka\n",
      "Processing Record 150 of Set 1 | tezu\n",
      "Processing Record 151 of Set 1 | hithadhoo\n",
      "Processing Record 152 of Set 1 | lasa\n",
      "Processing Record 153 of Set 1 | havelock\n",
      "Processing Record 154 of Set 1 | ust-karsk\n",
      "illoqqortoormiut not found. Skipping.\n",
      "Processing Record 156 of Set 1 | vostok\n",
      "Processing Record 157 of Set 1 | cherskiy\n",
      "Processing Record 158 of Set 1 | macon\n",
      "Processing Record 159 of Set 1 | salinopolis\n",
      "Processing Record 160 of Set 1 | lata\n",
      "Processing Record 161 of Set 1 | hasaki\n",
      "Processing Record 162 of Set 1 | bambous virieux\n",
      "Processing Record 163 of Set 1 | aripuana\n",
      "Processing Record 164 of Set 1 | balilihan\n",
      "Processing Record 165 of Set 1 | kambove\n",
      "Processing Record 166 of Set 1 | lorengau\n",
      "Processing Record 167 of Set 1 | aleksandrovsk-sakhalinskiy\n",
      "Processing Record 168 of Set 1 | nanakuli\n",
      "Processing Record 169 of Set 1 | saint-pierre\n",
      "Processing Record 170 of Set 1 | khorinsk\n",
      "Processing Record 171 of Set 1 | tuatapere\n",
      "Processing Record 172 of Set 1 | el alto\n",
      "tuggurt not found. Skipping.\n",
      "Processing Record 174 of Set 1 | nanortalik\n",
      "Processing Record 175 of Set 1 | ouesso\n",
      "Processing Record 176 of Set 1 | gurupa\n",
      "Processing Record 177 of Set 1 | xiaoyi\n",
      "Processing Record 178 of Set 1 | ayame\n",
      "Processing Record 179 of Set 1 | saint-francois\n",
      "Processing Record 180 of Set 1 | barrow\n",
      "Processing Record 181 of Set 1 | alihe\n",
      "Processing Record 182 of Set 1 | thompson\n",
      "tsihombe not found. Skipping.\n",
      "Processing Record 184 of Set 1 | la ronge\n",
      "Processing Record 185 of Set 1 | avarua\n",
      "Processing Record 186 of Set 1 | vidim\n",
      "Processing Record 187 of Set 1 | port elizabeth\n",
      "Processing Record 188 of Set 1 | lavrentiya\n",
      "Processing Record 189 of Set 1 | peniche\n",
      "Processing Record 190 of Set 1 | rawson\n",
      "Processing Record 191 of Set 1 | traralgon\n",
      "Processing Record 192 of Set 1 | laguna\n",
      "Processing Record 193 of Set 1 | atasu\n",
      "Processing Record 194 of Set 1 | sabya\n",
      "Processing Record 195 of Set 1 | ovre ardal\n",
      "Processing Record 196 of Set 1 | los banos\n",
      "barentsburg not found. Skipping.\n",
      "Processing Record 198 of Set 1 | aranda de duero\n",
      "Processing Record 199 of Set 1 | villa maria\n",
      "Processing Record 200 of Set 1 | nushki\n"
     ]
    },
    {
     "name": "stdout",
     "output_type": "stream",
     "text": [
      "Processing Record 201 of Set 1 | severo-kurilsk\n",
      "saleaula not found. Skipping.\n",
      "Processing Record 203 of Set 1 | pimentel\n",
      "Processing Record 204 of Set 1 | ferme-neuve\n",
      "Processing Record 205 of Set 1 | mogadishu\n",
      "Processing Record 206 of Set 1 | north bend\n",
      "Processing Record 207 of Set 1 | bose\n",
      "Processing Record 208 of Set 1 | abu dhabi\n",
      "Processing Record 209 of Set 1 | jizan\n",
      "Processing Record 210 of Set 1 | makokou\n",
      "Processing Record 211 of Set 1 | dunedin\n",
      "Processing Record 212 of Set 1 | nuevo progreso\n",
      "Processing Record 213 of Set 1 | kilindoni\n",
      "Processing Record 214 of Set 1 | salalah\n",
      "Processing Record 215 of Set 1 | talnakh\n",
      "Processing Record 216 of Set 1 | seoul\n",
      "Processing Record 217 of Set 1 | boende\n",
      "tabiauea not found. Skipping.\n",
      "Processing Record 219 of Set 1 | kulhudhuffushi\n",
      "Processing Record 220 of Set 1 | pedasi\n",
      "Processing Record 221 of Set 1 | bundaberg\n",
      "Processing Record 222 of Set 1 | kodiak\n",
      "Processing Record 223 of Set 1 | souillac\n",
      "Processing Record 224 of Set 1 | paragominas\n",
      "sentyabrskiy not found. Skipping.\n",
      "Processing Record 226 of Set 1 | guatire\n",
      "Processing Record 227 of Set 1 | shimoda\n",
      "Processing Record 228 of Set 1 | upernavik\n",
      "rawannawi not found. Skipping.\n",
      "Processing Record 230 of Set 1 | ambilobe\n",
      "Processing Record 231 of Set 1 | irituia\n",
      "Processing Record 232 of Set 1 | porosozero\n",
      "Processing Record 233 of Set 1 | arvika\n",
      "Processing Record 234 of Set 1 | los llanos de aridane\n",
      "Processing Record 235 of Set 1 | ostrovnoy\n",
      "Processing Record 236 of Set 1 | sitka\n",
      "Processing Record 237 of Set 1 | bukavu\n",
      "Processing Record 238 of Set 1 | belaya glina\n",
      "Processing Record 239 of Set 1 | kincardine\n",
      "Processing Record 240 of Set 1 | scarborough\n",
      "Processing Record 241 of Set 1 | ossora\n",
      "Processing Record 242 of Set 1 | balao\n",
      "Processing Record 243 of Set 1 | abu samrah\n",
      "Processing Record 244 of Set 1 | gbadolite\n",
      "Processing Record 245 of Set 1 | coquimbo\n",
      "Processing Record 246 of Set 1 | kruisfontein\n",
      "Processing Record 247 of Set 1 | byron bay\n",
      "Processing Record 248 of Set 1 | yulara\n",
      "Processing Record 249 of Set 1 | puerto escondido\n",
      "Processing Record 250 of Set 1 | jind\n",
      "Processing Record 251 of Set 1 | solnechnyy\n",
      "vaitupu not found. Skipping.\n",
      "Processing Record 253 of Set 1 | kodinsk\n",
      "Processing Record 254 of Set 1 | wilmington\n",
      "Processing Record 255 of Set 1 | canas\n",
      "Processing Record 256 of Set 1 | anzio\n",
      "Processing Record 257 of Set 1 | comodoro rivadavia\n",
      "Processing Record 258 of Set 1 | hirara\n",
      "Processing Record 259 of Set 1 | fare\n",
      "Processing Record 260 of Set 1 | ilulissat\n",
      "Processing Record 261 of Set 1 | queanbeyan\n",
      "Processing Record 262 of Set 1 | vieste\n",
      "Processing Record 263 of Set 1 | ternate\n",
      "Processing Record 264 of Set 1 | turukhansk\n",
      "Processing Record 265 of Set 1 | kyabe\n",
      "Processing Record 266 of Set 1 | opuwo\n",
      "Processing Record 267 of Set 1 | makat\n",
      "Processing Record 268 of Set 1 | buta\n",
      "Processing Record 269 of Set 1 | shelburne\n",
      "Processing Record 270 of Set 1 | santa isabel do rio negro\n",
      "Processing Record 271 of Set 1 | chicama\n",
      "Processing Record 272 of Set 1 | luderitz\n",
      "Processing Record 273 of Set 1 | teahupoo\n",
      "Processing Record 274 of Set 1 | poum\n",
      "Processing Record 275 of Set 1 | vanavara\n",
      "Processing Record 276 of Set 1 | pyu\n",
      "Processing Record 277 of Set 1 | ulvik\n",
      "Processing Record 278 of Set 1 | komsomolskiy\n",
      "Processing Record 279 of Set 1 | coari\n",
      "Processing Record 280 of Set 1 | borogontsy\n",
      "Processing Record 281 of Set 1 | acapulco\n",
      "Processing Record 282 of Set 1 | san quintin\n",
      "Processing Record 283 of Set 1 | grand-santi\n",
      "Processing Record 284 of Set 1 | ketchikan\n",
      "Processing Record 285 of Set 1 | airai\n",
      "Processing Record 286 of Set 1 | geraldton\n",
      "Processing Record 287 of Set 1 | riacho de santana\n",
      "Processing Record 288 of Set 1 | gladstone\n",
      "Processing Record 289 of Set 1 | hof\n",
      "Processing Record 290 of Set 1 | ancud\n",
      "Processing Record 291 of Set 1 | san juan de uraba\n",
      "Processing Record 292 of Set 1 | belmonte\n",
      "Processing Record 293 of Set 1 | apollonia\n",
      "Processing Record 294 of Set 1 | bonthe\n",
      "Processing Record 295 of Set 1 | torbat-e jam\n",
      "Processing Record 296 of Set 1 | kavieng\n",
      "Processing Record 297 of Set 1 | hare bay\n",
      "Processing Record 298 of Set 1 | masuguru\n",
      "Processing Record 299 of Set 1 | fougamou\n",
      "Processing Record 300 of Set 1 | iqaluit\n",
      "Processing Record 301 of Set 1 | narnaul\n",
      "Processing Record 302 of Set 1 | beringovskiy\n",
      "Processing Record 303 of Set 1 | voh\n",
      "Processing Record 304 of Set 1 | presidente medici\n",
      "Processing Record 305 of Set 1 | belyy yar\n",
      "Processing Record 306 of Set 1 | hofn\n",
      "Processing Record 307 of Set 1 | murgab\n",
      "Processing Record 308 of Set 1 | sungairaya\n",
      "Processing Record 309 of Set 1 | shitkino\n",
      "Processing Record 310 of Set 1 | torbay\n",
      "Processing Record 311 of Set 1 | arua\n",
      "Processing Record 312 of Set 1 | northam\n",
      "Processing Record 313 of Set 1 | guerrero negro\n",
      "Processing Record 314 of Set 1 | maraa\n",
      "Processing Record 315 of Set 1 | lincoln\n",
      "Processing Record 316 of Set 1 | xichang\n",
      "Processing Record 317 of Set 1 | novikovo\n",
      "Processing Record 318 of Set 1 | kaitangata\n",
      "Processing Record 319 of Set 1 | smiltene\n",
      "grand river south east not found. Skipping.\n",
      "Processing Record 321 of Set 1 | lompoc\n",
      "Processing Record 322 of Set 1 | san patricio\n",
      "Processing Record 323 of Set 1 | prince rupert\n",
      "Processing Record 324 of Set 1 | paamiut\n",
      "Processing Record 325 of Set 1 | otsuchi\n",
      "Processing Record 326 of Set 1 | ribeira grande\n",
      "Processing Record 327 of Set 1 | joshimath\n",
      "Processing Record 328 of Set 1 | wairoa\n",
      "Processing Record 329 of Set 1 | sambava\n",
      "Processing Record 330 of Set 1 | baykit\n",
      "Processing Record 331 of Set 1 | muros\n",
      "Processing Record 332 of Set 1 | paita\n",
      "Processing Record 333 of Set 1 | cap malheureux\n",
      "Processing Record 334 of Set 1 | payo\n",
      "Processing Record 335 of Set 1 | barghat\n",
      "Processing Record 336 of Set 1 | sokolo\n",
      "Processing Record 337 of Set 1 | lubao\n",
      "Processing Record 338 of Set 1 | paratinga\n",
      "Processing Record 339 of Set 1 | tsaratanana\n",
      "Processing Record 340 of Set 1 | omsukchan\n",
      "Processing Record 341 of Set 1 | poya\n",
      "Processing Record 342 of Set 1 | codrington\n",
      "Processing Record 343 of Set 1 | kayiry\n",
      "Processing Record 344 of Set 1 | darhan\n",
      "Processing Record 345 of Set 1 | norman wells\n",
      "Processing Record 346 of Set 1 | meulaboh\n",
      "Processing Record 347 of Set 1 | dabakala\n",
      "Processing Record 348 of Set 1 | yurovka\n",
      "kailasahar not found. Skipping.\n",
      "Processing Record 350 of Set 1 | mersing\n",
      "Processing Record 351 of Set 1 | fairbanks\n",
      "Processing Record 352 of Set 1 | zyryanka\n",
      "Processing Record 353 of Set 1 | copiapo\n",
      "lolua not found. Skipping.\n",
      "Processing Record 355 of Set 1 | antsohihy\n",
      "Processing Record 356 of Set 1 | rocha\n",
      "Processing Record 357 of Set 1 | valdemarpils\n",
      "Processing Record 358 of Set 1 | jalu\n",
      "canitas not found. Skipping.\n",
      "Processing Record 360 of Set 1 | goderich\n",
      "Processing Record 361 of Set 1 | cooma\n",
      "Processing Record 362 of Set 1 | yar-sale\n",
      "Processing Record 363 of Set 1 | lermontovka\n",
      "Processing Record 364 of Set 1 | necochea\n",
      "Processing Record 365 of Set 1 | cidreira\n",
      "Processing Record 366 of Set 1 | flinders\n",
      "louisbourg not found. Skipping.\n",
      "Processing Record 368 of Set 1 | hualmay\n",
      "Processing Record 369 of Set 1 | urumqi\n",
      "Processing Record 370 of Set 1 | saint-augustin\n",
      "Processing Record 371 of Set 1 | santa rosa\n",
      "Processing Record 372 of Set 1 | winnemucca\n",
      "Processing Record 373 of Set 1 | fortuna\n",
      "Processing Record 374 of Set 1 | zelenogorskiy\n",
      "Processing Record 375 of Set 1 | rach gia\n",
      "Processing Record 376 of Set 1 | pangody\n",
      "Processing Record 377 of Set 1 | baghdad\n",
      "Processing Record 378 of Set 1 | santa cruz\n",
      "Processing Record 379 of Set 1 | pabrade\n",
      "Processing Record 380 of Set 1 | the valley\n",
      "kilmez not found. Skipping.\n",
      "Processing Record 382 of Set 1 | mayumba\n",
      "Processing Record 383 of Set 1 | nago\n",
      "Processing Record 384 of Set 1 | berlevag\n",
      "Processing Record 385 of Set 1 | concordia\n",
      "Processing Record 386 of Set 1 | soledade\n",
      "Processing Record 387 of Set 1 | njombe\n",
      "Processing Record 388 of Set 1 | quatre cocos\n",
      "Processing Record 389 of Set 1 | gallup\n",
      "Processing Record 390 of Set 1 | feldkirchen an der donau\n",
      "Processing Record 391 of Set 1 | mecca\n",
      "Processing Record 392 of Set 1 | mayor pablo lagerenza\n",
      "Processing Record 393 of Set 1 | ibotirama\n",
      "Processing Record 394 of Set 1 | forrest city\n",
      "Processing Record 395 of Set 1 | bethel\n",
      "Processing Record 396 of Set 1 | high rock\n",
      "umzimvubu not found. Skipping.\n"
     ]
    },
    {
     "name": "stdout",
     "output_type": "stream",
     "text": [
      "Processing Record 398 of Set 1 | tshikapa\n",
      "Processing Record 399 of Set 1 | vangaindrano\n",
      "Processing Record 400 of Set 1 | khani\n",
      "Processing Record 401 of Set 1 | krasnoselkup\n",
      "Processing Record 402 of Set 1 | grindavik\n",
      "Processing Record 403 of Set 1 | alakurtti\n",
      "Processing Record 404 of Set 1 | punta alta\n",
      "Processing Record 405 of Set 1 | sorland\n",
      "Processing Record 406 of Set 1 | mamontovo\n",
      "Processing Record 407 of Set 1 | kavaratti\n",
      "Processing Record 408 of Set 1 | mount gambier\n",
      "Processing Record 409 of Set 1 | peterhead\n",
      "Processing Record 410 of Set 1 | korla\n",
      "Processing Record 411 of Set 1 | saint george\n",
      "Processing Record 412 of Set 1 | san rafael\n",
      "Processing Record 413 of Set 1 | jacksonville\n",
      "Processing Record 414 of Set 1 | ulety\n",
      "Processing Record 415 of Set 1 | nabire\n",
      "Processing Record 416 of Set 1 | pevek\n",
      "Processing Record 417 of Set 1 | corning\n",
      "Processing Record 418 of Set 1 | ilhabela\n",
      "Processing Record 419 of Set 1 | labuhan\n",
      "Processing Record 420 of Set 1 | morros\n",
      "Processing Record 421 of Set 1 | kungurtug\n",
      "Processing Record 422 of Set 1 | katsuura\n",
      "Processing Record 423 of Set 1 | santa vitoria do palmar\n",
      "Processing Record 424 of Set 1 | agara\n",
      "Processing Record 425 of Set 1 | narsaq\n",
      "Processing Record 426 of Set 1 | itarema\n",
      "Processing Record 427 of Set 1 | faya\n",
      "Processing Record 428 of Set 1 | nha trang\n",
      "Processing Record 429 of Set 1 | mayo\n",
      "Processing Record 430 of Set 1 | santa maria\n",
      "Processing Record 431 of Set 1 | zaokskiy\n",
      "Processing Record 432 of Set 1 | mayfield\n",
      "Processing Record 433 of Set 1 | moyale\n",
      "Processing Record 434 of Set 1 | buckingham\n",
      "Processing Record 435 of Set 1 | vathi\n",
      "Processing Record 436 of Set 1 | biltine\n",
      "Processing Record 437 of Set 1 | pachmarhi\n",
      "Processing Record 438 of Set 1 | marzuq\n",
      "Processing Record 439 of Set 1 | kemijarvi\n",
      "Processing Record 440 of Set 1 | negombo\n",
      "Processing Record 441 of Set 1 | half moon bay\n",
      "Processing Record 442 of Set 1 | bagdarin\n",
      "Processing Record 443 of Set 1 | henties bay\n",
      "Processing Record 444 of Set 1 | san cristobal\n",
      "Processing Record 445 of Set 1 | teguise\n",
      "Processing Record 446 of Set 1 | coria\n",
      "Processing Record 447 of Set 1 | delano\n",
      "Processing Record 448 of Set 1 | wells\n",
      "Processing Record 449 of Set 1 | omboue\n",
      "Processing Record 450 of Set 1 | fort nelson\n",
      "Processing Record 451 of Set 1 | kamaishi\n",
      "Processing Record 452 of Set 1 | vao\n",
      "zachagansk not found. Skipping.\n",
      "Processing Record 454 of Set 1 | shetpe\n",
      "Processing Record 455 of Set 1 | ivaipora\n",
      "Processing Record 456 of Set 1 | westport\n",
      "Processing Record 457 of Set 1 | praia da vitoria\n",
      "Processing Record 458 of Set 1 | kirakira\n",
      "Processing Record 459 of Set 1 | richards bay\n",
      "Processing Record 460 of Set 1 | nantucket\n",
      "Processing Record 461 of Set 1 | sunndalsora\n",
      "Processing Record 462 of Set 1 | sheregesh\n",
      "Processing Record 463 of Set 1 | sabla\n",
      "Processing Record 464 of Set 1 | sumbawanga\n",
      "Processing Record 465 of Set 1 | takoradi\n",
      "Processing Record 466 of Set 1 | yarmouth\n",
      "Processing Record 467 of Set 1 | bowen\n",
      "Processing Record 468 of Set 1 | montepuez\n",
      "Processing Record 469 of Set 1 | oniceni\n",
      "Processing Record 470 of Set 1 | shieli\n",
      "Processing Record 471 of Set 1 | ventspils\n",
      "Processing Record 472 of Set 1 | bodden town\n",
      "Processing Record 473 of Set 1 | coahuayana\n",
      "Processing Record 474 of Set 1 | sarakhs\n",
      "Processing Record 475 of Set 1 | begun\n",
      "Processing Record 476 of Set 1 | nisia floresta\n",
      "Processing Record 477 of Set 1 | moron\n",
      "Processing Record 478 of Set 1 | cervo\n",
      "Processing Record 479 of Set 1 | sinnamary\n",
      "Processing Record 480 of Set 1 | tsabong\n",
      "Processing Record 481 of Set 1 | cabra\n",
      "Processing Record 482 of Set 1 | port-gentil\n",
      "Processing Record 483 of Set 1 | cabo san lucas\n",
      "Processing Record 484 of Set 1 | camocim\n",
      "Processing Record 485 of Set 1 | granville\n",
      "Processing Record 486 of Set 1 | shingu\n",
      "Processing Record 487 of Set 1 | vaitape\n",
      "Processing Record 488 of Set 1 | minna\n",
      "Processing Record 489 of Set 1 | superior\n",
      "Processing Record 490 of Set 1 | tacuarembo\n",
      "Processing Record 491 of Set 1 | villarrica\n",
      "Processing Record 492 of Set 1 | alice springs\n",
      "Processing Record 493 of Set 1 | north platte\n",
      "Processing Record 494 of Set 1 | pacific grove\n",
      "Processing Record 495 of Set 1 | zheleznodorozhnyy\n",
      "Processing Record 496 of Set 1 | morgantown\n",
      "Processing Record 497 of Set 1 | santa marinella\n",
      "Processing Record 498 of Set 1 | inzhavino\n",
      "Processing Record 499 of Set 1 | edeia\n",
      "Processing Record 500 of Set 1 | leshan\n",
      "Processing Record 501 of Set 1 | kralendijk\n",
      "Processing Record 502 of Set 1 | maryville\n",
      "Processing Record 503 of Set 1 | mukhen\n",
      "Processing Record 504 of Set 1 | mahajanga\n",
      "Processing Record 505 of Set 1 | luang prabang\n",
      "Processing Record 506 of Set 1 | kenai\n",
      "yuzhno-yeniseyskiy not found. Skipping.\n",
      "Processing Record 508 of Set 1 | la palma\n",
      "Processing Record 509 of Set 1 | tagusao\n",
      "Processing Record 510 of Set 1 | houlton\n",
      "Processing Record 511 of Set 1 | namibe\n",
      "Processing Record 512 of Set 1 | carora\n",
      "Processing Record 513 of Set 1 | havre-saint-pierre\n",
      "Processing Record 514 of Set 1 | mangrol\n",
      "Processing Record 515 of Set 1 | port hardy\n",
      "Processing Record 516 of Set 1 | roald\n",
      "Processing Record 517 of Set 1 | honolulu\n",
      "Processing Record 518 of Set 1 | ayan\n",
      "Processing Record 519 of Set 1 | mirnyy\n",
      "Processing Record 520 of Set 1 | pisco\n",
      "Processing Record 521 of Set 1 | churapcha\n",
      "Processing Record 522 of Set 1 | hajnowka\n",
      "Processing Record 523 of Set 1 | chabahar\n",
      "Processing Record 524 of Set 1 | campos altos\n",
      "Processing Record 525 of Set 1 | east stroudsburg\n",
      "Processing Record 526 of Set 1 | carauari\n",
      "Processing Record 527 of Set 1 | mount isa\n",
      "Processing Record 528 of Set 1 | tiarei\n",
      "Processing Record 529 of Set 1 | batagay\n",
      "Processing Record 530 of Set 1 | vallenar\n",
      "Processing Record 531 of Set 1 | muana\n",
      "Processing Record 532 of Set 1 | yeppoon\n",
      "Processing Record 533 of Set 1 | yingcheng\n",
      "Processing Record 534 of Set 1 | hailar\n",
      "Processing Record 535 of Set 1 | teknaf\n",
      "Processing Record 536 of Set 1 | tornio\n",
      "Processing Record 537 of Set 1 | lazaro cardenas\n",
      "tumannyy not found. Skipping.\n",
      "Processing Record 539 of Set 1 | constitucion\n",
      "Processing Record 540 of Set 1 | witu\n",
      "Processing Record 541 of Set 1 | mokrous\n",
      "Processing Record 542 of Set 1 | bellmead\n",
      "Processing Record 543 of Set 1 | acarau\n",
      "Processing Record 544 of Set 1 | cheltenham\n",
      "Processing Record 545 of Set 1 | matadi\n",
      "kesennuma not found. Skipping.\n",
      "Processing Record 547 of Set 1 | chapais\n",
      "Processing Record 548 of Set 1 | lahaina\n",
      "Processing Record 549 of Set 1 | padang\n",
      "Processing Record 550 of Set 1 | eston\n",
      "Processing Record 551 of Set 1 | elko\n",
      "Processing Record 552 of Set 1 | kuna\n",
      "Processing Record 553 of Set 1 | palu\n",
      "Processing Record 554 of Set 1 | chaiya\n",
      "Processing Record 555 of Set 1 | kokkola\n",
      "Processing Record 556 of Set 1 | kuruman\n",
      "Processing Record 557 of Set 1 | piopio\n",
      "Processing Record 558 of Set 1 | kemise\n",
      "ituni not found. Skipping.\n",
      "Processing Record 560 of Set 1 | inirida\n",
      "Processing Record 561 of Set 1 | marsa matruh\n",
      "kusk not found. Skipping.\n",
      "Processing Record 563 of Set 1 | tomatlan\n",
      "Processing Record 564 of Set 1 | port macquarie\n",
      "Processing Record 565 of Set 1 | beyneu\n",
      "Processing Record 566 of Set 1 | bani walid\n",
      "safwah not found. Skipping.\n",
      "Processing Record 568 of Set 1 | batemans bay\n",
      "Processing Record 569 of Set 1 | tynda\n",
      "Processing Record 570 of Set 1 | san vicente\n",
      "Processing Record 571 of Set 1 | gimli\n",
      "Processing Record 572 of Set 1 | mandan\n",
      "Processing Record 573 of Set 1 | bilma\n",
      "Processing Record 574 of Set 1 | te anau\n",
      "Processing Record 575 of Set 1 | ontario\n",
      "Processing Record 576 of Set 1 | namtsy\n",
      "Processing Record 577 of Set 1 | lagoa\n",
      "Processing Record 578 of Set 1 | nogliki\n"
     ]
    }
   ],
   "source": [
    "print('Beginning Data Retrieval')\n",
    "print('-----------------------------')\n",
    "\n",
    "#create query url for loop\n",
    "query_url = f'http://api.openweathermap.org/data/2.5/weather?appid={weather_api_key}&units={units}&q='\n",
    "\n",
    "# loop through cities to collect currect weather data\n",
    "for city in cities:\n",
    "    # Create search query, make request and store in json\n",
    "    response_json = requests.get(query_url + city).json()\n",
    "    \n",
    "    # attempt to grab weather data from the cities\n",
    "    try:\n",
    "        latitude.append(response_json['coord']['lat'])\n",
    "        temp.append(response_json['main']['temp'])\n",
    "        max_temp.append(response_json['main']['temp_max'])\n",
    "        humidity.append(response_json['main']['humidity'])\n",
    "        cloudiness.append(response_json['clouds']['all'])\n",
    "        wind_speed.append(response_json['wind']['speed'])\n",
    "        city_list.append(city)\n",
    "        #mass.append(response_json['results'][0]['mass'])\n",
    "        print(f'Processing Record {cities.index(city)} of Set 1 | {city}')\n",
    "        \n",
    "    # exceptions for a cities not found or errors\n",
    "    except:\n",
    "        print(f'{city} not found. Skipping.')\n",
    "        pass"
   ]
  },
  {
   "cell_type": "markdown",
   "metadata": {},
   "source": [
    "### Convert Raw Data to DataFrame\n",
    "* Export the city data into a .csv.\n",
    "* Display the DataFrame"
   ]
  },
  {
   "cell_type": "code",
   "execution_count": 14,
   "metadata": {},
   "outputs": [],
   "source": [
    "# Create DataFrame\n",
    "weather_data = pd.DataFrame({\n",
    "    'City': city_list,\n",
    "    'Latitude': latitude,\n",
    "    'Temperature (F)': temp,\n",
    "    'Max Temp (F)': max_temp,\n",
    "    'Humidity (%)': humidity,\n",
    "    'Cloudiness (%)': cloudiness,\n",
    "    'Wind Speed (mph)': wind_speed\n",
    "})\n",
    "\n",
    "#set the city to the index\n",
    "weather_data = weather_data.set_index('City')\n",
    "\n",
    "#weather_data"
   ]
  },
  {
   "cell_type": "markdown",
   "metadata": {},
   "source": [
    "## Inspect the data and remove the cities where the humidity > 100%.\n",
    "----\n",
    "Skip this step if there are no cities that have humidity > 100%. "
   ]
  },
  {
   "cell_type": "code",
   "execution_count": 21,
   "metadata": {},
   "outputs": [],
   "source": [
    "clean_weather_data = weather_data.loc[(weather_data['Humidity (%)'] < 100),:]\n",
    "\n",
    "#export clean data to csv\n",
    "clean_weather_data.to_csv('../Output/clean_weather_data.csv')"
   ]
  },
  {
   "cell_type": "markdown",
   "metadata": {},
   "source": [
    "## Plotting the Data\n",
    "* Use proper labeling of the plots using plot titles (including date of analysis) and axes labels.\n",
    "* Save the plotted figures as .pngs."
   ]
  },
  {
   "cell_type": "markdown",
   "metadata": {},
   "source": [
    "## Latitude vs. Temperature Plot"
   ]
  },
  {
   "cell_type": "code",
   "execution_count": 16,
   "metadata": {
    "scrolled": true
   },
   "outputs": [
    {
     "data": {
      "image/png": "[encoded data removed]",
      "text/plain": [
       "<Figure size 648x432 with 1 Axes>"
      ]
     },
     "metadata": {
      "needs_background": "light"
     },
     "output_type": "display_data"
    }
   ],
   "source": [
    "clean_weather_data.plot(kind='scatter', x='Latitude', y='Temperature (F)', grid=True, figsize=(9,6),\n",
    "              title='City Latitude vs. Temperature', s=25, alpha=0.8, xlim=(-60,90))\n",
    "\n",
    "plt.savefig('../Output/lat_v_temp', pad_inches=0.1, facecolor='w')\n",
    "plt.show()"
   ]
  },
  {
   "cell_type": "markdown",
   "metadata": {},
   "source": [
    "## Latitude vs. Humidity Plot"
   ]
  },
  {
   "cell_type": "code",
   "execution_count": 17,
   "metadata": {},
   "outputs": [
    {
     "data": {
      "image/png": "[encoded data removed]",
      "text/plain": [
       "<Figure size 648x432 with 1 Axes>"
      ]
     },
     "metadata": {
      "needs_background": "light"
     },
     "output_type": "display_data"
    }
   ],
   "source": [
    "clean_weather_data.plot(kind='scatter', x='Latitude', y='Humidity (%)', grid=True, figsize=(9,6),\n",
    "              title='City Latitude vs. Humidity', s=25, alpha=0.8, xlim=(-60,90))\n",
    "\n",
    "plt.savefig('../Output/lat_v_humidity', pad_inches=0.1, facecolor='w')\n",
    "plt.show()"
   ]
  },
  {
   "cell_type": "markdown",
   "metadata": {},
   "source": [
    "## Latitude vs. Cloudiness Plot"
   ]
  },
  {
   "cell_type": "code",
   "execution_count": 18,
   "metadata": {},
   "outputs": [
    {
     "data": {
      "image/png": "[encoded data removed]",
      "text/plain": [
       "<Figure size 648x432 with 1 Axes>"
      ]
     },
     "metadata": {
      "needs_background": "light"
     },
     "output_type": "display_data"
    }
   ],
   "source": [
    "clean_weather_data.plot(kind='scatter', x='Latitude', y='Cloudiness (%)', grid=True, figsize=(9,6),\n",
    "              title='City Latitude vs. Cloudiness', s=25, alpha=0.8, xlim=(-60,90))\n",
    "\n",
    "plt.savefig('../Output/lat_v_clouds', pad_inches=0.1, facecolor='w')\n",
    "plt.show()"
   ]
  },
  {
   "cell_type": "markdown",
   "metadata": {},
   "source": [
    "## Latitude vs. Wind Speed Plot"
   ]
  },
  {
   "cell_type": "code",
   "execution_count": 19,
   "metadata": {},
   "outputs": [
    {
     "data": {
      "image/png": "[encoded data removed]",
      "text/plain": [
       "<Figure size 648x432 with 1 Axes>"
      ]
     },
     "metadata": {
      "needs_background": "light"
     },
     "output_type": "display_data"
    }
   ],
   "source": [
    "clean_weather_data.plot(kind='scatter', x='Latitude', y='Wind Speed (mph)', grid=True, figsize=(9,6),\n",
    "              title='City Latitude vs. Wind Speed', s=25, alpha=0.8, xlim=(-60,90))\n",
    "\n",
    "plt.savefig('../Output/lat_v_wind', pad_inches=0.1, facecolor='w')\n",
    "plt.show()"
   ]
  },
  {
   "cell_type": "markdown",
   "metadata": {},
   "source": [
    "## Linear Regression"
   ]
  },
  {
   "cell_type": "code",
   "execution_count": null,
   "metadata": {},
   "outputs": [],
   "source": [
    "#create dataframes for Northen and Southern Hemispheres\n",
    "northern_hemi = clean_weather_data.loc[(clean_weather_data['Latitude'] > 0),:]\n",
    "southern_hemi = clean_weather_data.loc[(clean_weather_data['Latitude'] < 0),:]\n"
   ]
  },
  {
   "cell_type": "markdown",
   "metadata": {},
   "source": [
    "####  Northern Hemisphere - Max Temp vs. Latitude Linear Regression"
   ]
  },
  {
   "cell_type": "code",
   "execution_count": null,
   "metadata": {},
   "outputs": [],
   "source": []
  },
  {
   "cell_type": "markdown",
   "metadata": {},
   "source": [
    "####  Southern Hemisphere - Max Temp vs. Latitude Linear Regression"
   ]
  },
  {
   "cell_type": "code",
   "execution_count": null,
   "metadata": {},
   "outputs": [],
   "source": []
  },
  {
   "cell_type": "markdown",
   "metadata": {},
   "source": [
    "####  Northern Hemisphere - Humidity (%) vs. Latitude Linear Regression"
   ]
  },
  {
   "cell_type": "code",
   "execution_count": null,
   "metadata": {},
   "outputs": [],
   "source": []
  },
  {
   "cell_type": "markdown",
   "metadata": {},
   "source": [
    "####  Southern Hemisphere - Humidity (%) vs. Latitude Linear Regression"
   ]
  },
  {
   "cell_type": "code",
   "execution_count": null,
   "metadata": {},
   "outputs": [],
   "source": []
  },
  {
   "cell_type": "markdown",
   "metadata": {},
   "source": [
    "####  Northern Hemisphere - Cloudiness (%) vs. Latitude Linear Regression"
   ]
  },
  {
   "cell_type": "code",
   "execution_count": null,
   "metadata": {},
   "outputs": [],
   "source": []
  },
  {
   "cell_type": "markdown",
   "metadata": {},
   "source": [
    "####  Southern Hemisphere - Cloudiness (%) vs. Latitude Linear Regression"
   ]
  },
  {
   "cell_type": "code",
   "execution_count": null,
   "metadata": {},
   "outputs": [],
   "source": []
  },
  {
   "cell_type": "markdown",
   "metadata": {},
   "source": [
    "####  Northern Hemisphere - Wind Speed (mph) vs. Latitude Linear Regression"
   ]
  },
  {
   "cell_type": "code",
   "execution_count": null,
   "metadata": {},
   "outputs": [],
   "source": []
  },
  {
   "cell_type": "markdown",
   "metadata": {},
   "source": [
    "####  Southern Hemisphere - Wind Speed (mph) vs. Latitude Linear Regression"
   ]
  },
  {
   "cell_type": "code",
   "execution_count": null,
   "metadata": {},
   "outputs": [],
   "source": []
  },
  {
   "cell_type": "code",
   "execution_count": null,
   "metadata": {},
   "outputs": [],
   "source": []
  },
  {
   "cell_type": "code",
   "execution_count": null,
   "metadata": {},
   "outputs": [],
   "source": []
  },
  {
   "cell_type": "code",
   "execution_count": null,
   "metadata": {},
   "outputs": [],
   "source": []
  }
 ],
 "metadata": {
  "anaconda-cloud": {},
  "kernel_info": {
   "name": "python3"
  },
  "kernelspec": {
   "display_name": "PythonData",
   "language": "python",
   "name": "pythondata"
  },
  "language_info": {
   "codemirror_mode": {
    "name": "ipython",
    "version": 3
   },
   "file_extension": ".py",
   "mimetype": "text/x-python",
   "name": "python",
   "nbconvert_exporter": "python",
   "pygments_lexer": "ipython3",
   "version": "3.8.8"
  },
  "latex_envs": {
   "LaTeX_envs_menu_present": true,
   "autoclose": false,
   "autocomplete": true,
   "bibliofile": "biblio.bib",
   "cite_by": "apalike",
   "current_citInitial": 1,
   "eqLabelWithNumbers": true,
   "eqNumInitial": 1,
   "hotkeys": {
    "equation": "Ctrl-E",
    "itemize": "Ctrl-I"
   },
   "labels_anchors": false,
   "latex_user_defs": false,
   "report_style_numbering": false,
   "user_envs_cfg": false
  },
  "nteract": {
   "version": "0.12.3"
  }
 },
 "nbformat": 4,
 "nbformat_minor": 2
}
