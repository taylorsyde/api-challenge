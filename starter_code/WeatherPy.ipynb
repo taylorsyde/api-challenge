{
 "cells": [
  {
   "cell_type": "markdown",
   "metadata": {},
   "source": [
    "# WeatherPy\n",
    "----\n",
    "\n",
    "#### Note\n",
    "* Instructions have been included for each segment. You do not have to follow them exactly, but they are included to help you think through the steps."
   ]
  },
  {
   "cell_type": "code",
   "execution_count": 1,
   "metadata": {
    "scrolled": true
   },
   "outputs": [],
   "source": [
    "# Dependencies and Setup\n",
    "import matplotlib.pyplot as plt\n",
    "import pandas as pd\n",
    "import numpy as np\n",
    "import requests\n",
    "import time\n",
    "from scipy import stats\n",
    "\n",
    "# Import API key\n",
    "from api_keys import weather_api_key\n",
    "\n",
    "# Incorporated citipy to determine city based on latitude and longitude\n",
    "from citipy import citipy\n",
    "\n",
    "# Output File (CSV)\n",
    "output_data_file = \"output_data/cities.csv\"\n",
    "\n",
    "# Range of latitudes and longitudes\n",
    "lat_range = (-90, 90)\n",
    "lng_range = (-180, 180)"
   ]
  },
  {
   "cell_type": "markdown",
   "metadata": {},
   "source": [
    "## Generate Cities List"
   ]
  },
  {
   "cell_type": "code",
   "execution_count": 2,
   "metadata": {},
   "outputs": [
    {
     "data": {
      "text/plain": [
       "611"
      ]
     },
     "execution_count": 2,
     "metadata": {},
     "output_type": "execute_result"
    }
   ],
   "source": [
    "# List for holding lat_lngs and cities\n",
    "lat_lngs = []\n",
    "cities = []\n",
    "\n",
    "# Create a set of random lat and lng combinations\n",
    "lats = np.random.uniform(lat_range[0], lat_range[1], size=1500)\n",
    "lngs = np.random.uniform(lng_range[0], lng_range[1], size=1500)\n",
    "lat_lngs = zip(lats, lngs)\n",
    "\n",
    "# Identify nearest city for each lat, lng combination\n",
    "for lat_lng in lat_lngs:\n",
    "    city = citipy.nearest_city(lat_lng[0], lat_lng[1]).city_name\n",
    "    \n",
    "    # If the city is unique, then add it to a our cities list\n",
    "    if city not in cities:\n",
    "        cities.append(city)\n",
    "\n",
    "# Print the city count to confirm sufficient count\n",
    "len(cities)"
   ]
  },
  {
   "cell_type": "markdown",
   "metadata": {},
   "source": [
    "### Perform API Calls\n",
    "* Perform a weather check on each city using a series of successive API calls.\n",
    "* Include a print log of each city as it'sbeing processed (with the city number and city name).\n"
   ]
  },
  {
   "cell_type": "code",
   "execution_count": 3,
   "metadata": {},
   "outputs": [],
   "source": [
    "# create empty lists to store data for dataframe\n",
    "city_list = []\n",
    "latitude = []\n",
    "longitude = []\n",
    "temp = []\n",
    "max_temp = []\n",
    "humidity = []\n",
    "cloudiness = []\n",
    "wind_speed = []"
   ]
  },
  {
   "cell_type": "code",
   "execution_count": 4,
   "metadata": {
    "scrolled": true
   },
   "outputs": [],
   "source": [
    "#create query url for loop\n",
    "units = 'imperial'\n",
    "query_url = f'http://api.openweathermap.org/data/2.5/weather?appid={weather_api_key}&units={units}&q='"
   ]
  },
  {
   "cell_type": "code",
   "execution_count": 5,
   "metadata": {},
   "outputs": [
    {
     "name": "stdout",
     "output_type": "stream",
     "text": [
      "Beginning Data Retrieval\n",
      "-----------------------------\n",
      "Processing Record 0| butaritari\n",
      "Processing Record 1| panlaitan\n",
      "Processing Record 2| teahupoo\n",
      "Processing Record 3| abu dhabi\n",
      "Processing Record 4| vila velha\n",
      "Processing Record 5| thompson\n",
      "Processing Record 6| asau\n",
      "Processing Record 7| fare\n",
      "Processing Record 8| georgetown\n",
      "Processing Record 9| pevek\n",
      "Processing Record 10| cape town\n",
      "Processing Record 11| ushuaia\n",
      "illoqqortoormiut not found. Skipping.\n",
      "Processing Record 13| atar\n",
      "Processing Record 14| challapalle\n",
      "Processing Record 15| flin flon\n",
      "Processing Record 16| albany\n",
      "Processing Record 17| bluff\n",
      "Processing Record 18| new norfolk\n",
      "Processing Record 19| vaini\n",
      "Processing Record 20| ust-omchug\n",
      "Processing Record 21| faanui\n",
      "Processing Record 22| ribeira grande\n",
      "Processing Record 23| yellowknife\n",
      "Processing Record 24| barrow\n",
      "mys shmidta not found. Skipping.\n",
      "Processing Record 26| portland\n",
      "bargal not found. Skipping.\n",
      "Processing Record 28| castro\n",
      "saryshagan not found. Skipping.\n",
      "vaitupu not found. Skipping.\n",
      "Processing Record 31| punta arenas\n",
      "Processing Record 32| khatanga\n",
      "Processing Record 33| saint george\n",
      "Processing Record 34| port alfred\n",
      "barentsburg not found. Skipping.\n",
      "Processing Record 36| neiafu\n",
      "Processing Record 37| victoria\n",
      "Processing Record 38| maralal\n",
      "Processing Record 39| pinega\n",
      "Processing Record 40| port elizabeth\n",
      "deh rawud not found. Skipping.\n",
      "Processing Record 42| leningradskiy\n",
      "Processing Record 43| feicheng\n",
      "Processing Record 44| rikitea\n",
      "Processing Record 45| nardaran\n",
      "Processing Record 46| hervey bay\n",
      "Processing Record 47| hobart\n",
      "Processing Record 48| ponta do sol\n",
      "Processing Record 49| kondinskoye\n",
      "Processing Record 50| busselton\n",
      "Processing Record 51| slobodskoy\n",
      "Processing Record 52| krasnoselkup\n",
      "Processing Record 53| liku\n",
      "Processing Record 54| mitu\n",
      "Processing Record 55| zhoucheng\n",
      "Processing Record 56| los llanos de aridane\n",
      "Processing Record 57| keetmanshoop\n",
      "Processing Record 58| katherine\n",
      "Processing Record 59| kapaa\n",
      "Processing Record 60| cabo san lucas\n",
      "bolungarvik not found. Skipping.\n",
      "Processing Record 62| east london\n",
      "Processing Record 63| klaksvik\n",
      "Processing Record 64| kyzyl-suu\n",
      "aflu not found. Skipping.\n",
      "Processing Record 66| golpayegan\n",
      "Processing Record 67| sao filipe\n",
      "Processing Record 68| mataura\n",
      "Processing Record 69| zhanaozen\n",
      "Processing Record 70| mahebourg\n",
      "Processing Record 71| souillac\n",
      "Processing Record 72| bac lieu\n",
      "Processing Record 73| alofi\n",
      "Processing Record 74| grand gaube\n",
      "Processing Record 75| sarangani\n",
      "Processing Record 76| mar del plata\n",
      "Processing Record 77| bredasdorp\n",
      "Processing Record 78| saint-philippe\n",
      "Processing Record 79| norman wells\n",
      "Processing Record 80| atuona\n",
      "Processing Record 81| surgut\n",
      "Processing Record 82| barahona\n",
      "Processing Record 83| dingle\n",
      "Processing Record 84| port augusta\n",
      "Processing Record 85| hornepayne\n",
      "Processing Record 86| chokurdakh\n",
      "Processing Record 87| carnarvon\n",
      "Processing Record 88| jasrana\n",
      "Processing Record 89| saskylakh\n",
      "Processing Record 90| lavrentiya\n",
      "Processing Record 91| kabo\n",
      "Processing Record 92| saint-paul\n",
      "Processing Record 93| avarua\n",
      "Processing Record 94| yuci\n",
      "Processing Record 95| mamaku\n",
      "Processing Record 96| kavieng\n",
      "Processing Record 97| baykit\n",
      "Processing Record 98| arlit\n",
      "Processing Record 99| hilo\n"
     ]
    }
   ],
   "source": [
    "print('Beginning Data Retrieval')\n",
    "print('-----------------------------')\n",
    "\n",
    "#create query url for loop\n",
    "query_url = f'http://api.openweathermap.org/data/2.5/weather?appid={weather_api_key}&units={units}&q='\n",
    "\n",
    "# loop through cities to collect currect weather data\n",
    "for city in cities[:50]:\n",
    "    # Create search query, make request and store in json\n",
    "    response_json = requests.get(query_url + city).json()\n",
    "    \n",
    "    # attempt to grab weather data from the cities\n",
    "    try:\n",
    "        latitude.append(response_json['coord']['lat'])\n",
    "        longitude.append(response_json['coord']['lon'])\n",
    "        temp.append(response_json['main']['temp'])\n",
    "        max_temp.append(response_json['main']['temp_max'])\n",
    "        humidity.append(response_json['main']['humidity'])\n",
    "        cloudiness.append(response_json['clouds']['all'])\n",
    "        wind_speed.append(response_json['wind']['speed'])\n",
    "        city_list.append(city)\n",
    "        #mass.append(response_json['results'][0]['mass'])\n",
    "        print(f'Processing Record {cities.index(city)}| {city}')\n",
    "        \n",
    "    # exceptions for a cities not found or errors\n",
    "    except:\n",
    "        print(f'{city} not found. Skipping.')\n",
    "        pass"
   ]
  },
  {
   "cell_type": "markdown",
   "metadata": {},
   "source": [
    "### Convert Raw Data to DataFrame\n",
    "* Export the city data into a .csv.\n",
    "* Display the DataFrame"
   ]
  },
  {
   "cell_type": "code",
   "execution_count": 6,
   "metadata": {},
   "outputs": [
    {
     "data": {
      "text/html": [
       "<div>\n",
       "<style scoped>\n",
       "    .dataframe tbody tr th:only-of-type {\n",
       "        vertical-align: middle;\n",
       "    }\n",
       "\n",
       "    .dataframe tbody tr th {\n",
       "        vertical-align: top;\n",
       "    }\n",
       "\n",
       "    .dataframe thead th {\n",
       "        text-align: right;\n",
       "    }\n",
       "</style>\n",
       "<table border=\"1\" class=\"dataframe\">\n",
       "  <thead>\n",
       "    <tr style=\"text-align: right;\">\n",
       "      <th></th>\n",
       "      <th>Latitude</th>\n",
       "      <th>Longitude</th>\n",
       "      <th>Temperature (F)</th>\n",
       "      <th>Max Temp (F)</th>\n",
       "      <th>Humidity (%)</th>\n",
       "      <th>Cloudiness (%)</th>\n",
       "      <th>Wind Speed (mph)</th>\n",
       "    </tr>\n",
       "    <tr>\n",
       "      <th>City</th>\n",
       "      <th></th>\n",
       "      <th></th>\n",
       "      <th></th>\n",
       "      <th></th>\n",
       "      <th></th>\n",
       "      <th></th>\n",
       "      <th></th>\n",
       "    </tr>\n",
       "  </thead>\n",
       "  <tbody>\n",
       "    <tr>\n",
       "      <th>butaritari</th>\n",
       "      <td>3.0707</td>\n",
       "      <td>172.7902</td>\n",
       "      <td>83.10</td>\n",
       "      <td>83.10</td>\n",
       "      <td>65</td>\n",
       "      <td>18</td>\n",
       "      <td>12.44</td>\n",
       "    </tr>\n",
       "    <tr>\n",
       "      <th>panlaitan</th>\n",
       "      <td>12.1191</td>\n",
       "      <td>119.8486</td>\n",
       "      <td>81.54</td>\n",
       "      <td>81.54</td>\n",
       "      <td>74</td>\n",
       "      <td>100</td>\n",
       "      <td>3.91</td>\n",
       "    </tr>\n",
       "    <tr>\n",
       "      <th>teahupoo</th>\n",
       "      <td>-17.8333</td>\n",
       "      <td>-149.2667</td>\n",
       "      <td>76.96</td>\n",
       "      <td>76.96</td>\n",
       "      <td>82</td>\n",
       "      <td>57</td>\n",
       "      <td>16.46</td>\n",
       "    </tr>\n",
       "    <tr>\n",
       "      <th>abu dhabi</th>\n",
       "      <td>24.4667</td>\n",
       "      <td>54.3667</td>\n",
       "      <td>96.82</td>\n",
       "      <td>98.71</td>\n",
       "      <td>36</td>\n",
       "      <td>0</td>\n",
       "      <td>1.14</td>\n",
       "    </tr>\n",
       "    <tr>\n",
       "      <th>vila velha</th>\n",
       "      <td>-20.3297</td>\n",
       "      <td>-40.2925</td>\n",
       "      <td>69.75</td>\n",
       "      <td>69.75</td>\n",
       "      <td>83</td>\n",
       "      <td>40</td>\n",
       "      <td>3.44</td>\n",
       "    </tr>\n",
       "    <tr>\n",
       "      <th>...</th>\n",
       "      <td>...</td>\n",
       "      <td>...</td>\n",
       "      <td>...</td>\n",
       "      <td>...</td>\n",
       "      <td>...</td>\n",
       "      <td>...</td>\n",
       "      <td>...</td>\n",
       "    </tr>\n",
       "    <tr>\n",
       "      <th>mamaku</th>\n",
       "      <td>-38.1000</td>\n",
       "      <td>176.0833</td>\n",
       "      <td>48.83</td>\n",
       "      <td>50.86</td>\n",
       "      <td>43</td>\n",
       "      <td>0</td>\n",
       "      <td>8.28</td>\n",
       "    </tr>\n",
       "    <tr>\n",
       "      <th>kavieng</th>\n",
       "      <td>-2.5744</td>\n",
       "      <td>150.7967</td>\n",
       "      <td>83.89</td>\n",
       "      <td>83.89</td>\n",
       "      <td>68</td>\n",
       "      <td>23</td>\n",
       "      <td>9.35</td>\n",
       "    </tr>\n",
       "    <tr>\n",
       "      <th>baykit</th>\n",
       "      <td>61.6700</td>\n",
       "      <td>96.3700</td>\n",
       "      <td>61.12</td>\n",
       "      <td>61.12</td>\n",
       "      <td>62</td>\n",
       "      <td>69</td>\n",
       "      <td>0.38</td>\n",
       "    </tr>\n",
       "    <tr>\n",
       "      <th>arlit</th>\n",
       "      <td>18.7369</td>\n",
       "      <td>7.3853</td>\n",
       "      <td>86.34</td>\n",
       "      <td>86.34</td>\n",
       "      <td>41</td>\n",
       "      <td>100</td>\n",
       "      <td>3.80</td>\n",
       "    </tr>\n",
       "    <tr>\n",
       "      <th>hilo</th>\n",
       "      <td>19.7297</td>\n",
       "      <td>-155.0900</td>\n",
       "      <td>81.68</td>\n",
       "      <td>83.93</td>\n",
       "      <td>74</td>\n",
       "      <td>75</td>\n",
       "      <td>10.36</td>\n",
       "    </tr>\n",
       "  </tbody>\n",
       "</table>\n",
       "<p>91 rows × 7 columns</p>\n",
       "</div>"
      ],
      "text/plain": [
       "            Latitude  Longitude  Temperature (F)  Max Temp (F)  Humidity (%)  \\\n",
       "City                                                                           \n",
       "butaritari    3.0707   172.7902            83.10         83.10            65   \n",
       "panlaitan    12.1191   119.8486            81.54         81.54            74   \n",
       "teahupoo    -17.8333  -149.2667            76.96         76.96            82   \n",
       "abu dhabi    24.4667    54.3667            96.82         98.71            36   \n",
       "vila velha  -20.3297   -40.2925            69.75         69.75            83   \n",
       "...              ...        ...              ...           ...           ...   \n",
       "mamaku      -38.1000   176.0833            48.83         50.86            43   \n",
       "kavieng      -2.5744   150.7967            83.89         83.89            68   \n",
       "baykit       61.6700    96.3700            61.12         61.12            62   \n",
       "arlit        18.7369     7.3853            86.34         86.34            41   \n",
       "hilo         19.7297  -155.0900            81.68         83.93            74   \n",
       "\n",
       "            Cloudiness (%)  Wind Speed (mph)  \n",
       "City                                          \n",
       "butaritari              18             12.44  \n",
       "panlaitan              100              3.91  \n",
       "teahupoo                57             16.46  \n",
       "abu dhabi                0              1.14  \n",
       "vila velha              40              3.44  \n",
       "...                    ...               ...  \n",
       "mamaku                   0              8.28  \n",
       "kavieng                 23              9.35  \n",
       "baykit                  69              0.38  \n",
       "arlit                  100              3.80  \n",
       "hilo                    75             10.36  \n",
       "\n",
       "[91 rows x 7 columns]"
      ]
     },
     "execution_count": 6,
     "metadata": {},
     "output_type": "execute_result"
    }
   ],
   "source": [
    "# Create DataFrame\n",
    "weather_data = pd.DataFrame({\n",
    "    'City': city_list,\n",
    "    'Latitude': latitude,\n",
    "    'Longitude': longitude,\n",
    "    'Temperature (F)': temp,\n",
    "    'Max Temp (F)': max_temp,\n",
    "    'Humidity (%)': humidity,\n",
    "    'Cloudiness (%)': cloudiness,\n",
    "    'Wind Speed (mph)': wind_speed\n",
    "})\n",
    "\n",
    "#set the city to the index\n",
    "weather_data = weather_data.set_index('City')\n",
    "\n",
    "weather_data"
   ]
  },
  {
   "cell_type": "markdown",
   "metadata": {},
   "source": [
    "## Inspect the data and remove the cities where the humidity > 100%.\n",
    "----\n",
    "Skip this step if there are no cities that have humidity > 100%. "
   ]
  },
  {
   "cell_type": "code",
   "execution_count": 7,
   "metadata": {},
   "outputs": [],
   "source": [
    "clean_weather_data = weather_data.loc[(weather_data['Humidity (%)'] < 100),:]\n",
    "\n",
    "#export clean data to csv\n",
    "clean_weather_data.to_csv('../Output/clean_weather_data.csv')"
   ]
  },
  {
   "cell_type": "markdown",
   "metadata": {},
   "source": [
    "## Plotting the Data\n",
    "* Use proper labeling of the plots using plot titles (including date of analysis) and axes labels.\n",
    "* Save the plotted figures as .pngs."
   ]
  },
  {
   "cell_type": "markdown",
   "metadata": {},
   "source": [
    "## Latitude vs. Temperature Plot"
   ]
  },
  {
   "cell_type": "code",
   "execution_count": 8,
   "metadata": {
    "scrolled": true
   },
   "outputs": [
    {
     "data": {
      "image/png": "[encoded data removed]",
      "text/plain": [
       "<Figure size 648x432 with 1 Axes>"
      ]
     },
     "metadata": {
      "needs_background": "light"
     },
     "output_type": "display_data"
    }
   ],
   "source": [
    "clean_weather_data.plot(kind='scatter', x='Latitude', y='Max Temp (F)', grid=True, figsize=(9,6),\n",
    "              title='City Latitude vs. Temperature', s=25, alpha=0.8, xlim=(-60,90),color='purple')\n",
    "\n",
    "plt.savefig('../Output/lat_v_temp', pad_inches=0.1, facecolor='w')\n",
    "#plt.show()"
   ]
  },
  {
   "cell_type": "markdown",
   "metadata": {},
   "source": [
    "## Latitude vs. Humidity Plot"
   ]
  },
  {
   "cell_type": "code",
   "execution_count": 9,
   "metadata": {},
   "outputs": [
    {
     "data": {
      "image/png": "[encoded data removed]",
      "text/plain": [
       "<Figure size 648x432 with 1 Axes>"
      ]
     },
     "metadata": {
      "needs_background": "light"
     },
     "output_type": "display_data"
    }
   ],
   "source": [
    "clean_weather_data.plot(kind='scatter', x='Latitude', y='Humidity (%)', grid=True, figsize=(9,6),\n",
    "              title='City Latitude vs. Humidity', s=25, alpha=0.8, xlim=(-60,90), color='purple')\n",
    "\n",
    "plt.savefig('../Output/lat_v_humidity', pad_inches=0.1, facecolor='w')\n",
    "#plt.show()"
   ]
  },
  {
   "cell_type": "markdown",
   "metadata": {},
   "source": [
    "## Latitude vs. Cloudiness Plot"
   ]
  },
  {
   "cell_type": "code",
   "execution_count": 10,
   "metadata": {},
   "outputs": [
    {
     "data": {
      "image/png": "[encoded data removed]",
      "text/plain": [
       "<Figure size 648x432 with 1 Axes>"
      ]
     },
     "metadata": {
      "needs_background": "light"
     },
     "output_type": "display_data"
    }
   ],
   "source": [
    "clean_weather_data.plot(kind='scatter', x='Latitude', y='Cloudiness (%)', grid=True, figsize=(9,6),\n",
    "              title='City Latitude vs. Cloudiness', s=25, alpha=0.8, xlim=(-60,90), color='purple')\n",
    "\n",
    "plt.savefig('../Output/lat_v_clouds', pad_inches=0.1, facecolor='w')\n",
    "#plt.show()"
   ]
  },
  {
   "cell_type": "markdown",
   "metadata": {},
   "source": [
    "## Latitude vs. Wind Speed Plot"
   ]
  },
  {
   "cell_type": "code",
   "execution_count": 11,
   "metadata": {},
   "outputs": [
    {
     "data": {
      "image/png": "[encoded data removed]",
      "text/plain": [
       "<Figure size 648x432 with 1 Axes>"
      ]
     },
     "metadata": {
      "needs_background": "light"
     },
     "output_type": "display_data"
    }
   ],
   "source": [
    "clean_weather_data.plot(kind='scatter', x='Latitude', y='Wind Speed (mph)', grid=True, figsize=(9,6),\n",
    "              title='City Latitude vs. Wind Speed', s=25, alpha=0.8, xlim=(-60,90),color='purple')\n",
    "\n",
    "plt.savefig('../Output/lat_v_wind', pad_inches=0.1, facecolor='w')\n",
    "#plt.show()"
   ]
  },
  {
   "cell_type": "markdown",
   "metadata": {},
   "source": [
    "## Linear Regression"
   ]
  },
  {
   "cell_type": "code",
   "execution_count": 12,
   "metadata": {},
   "outputs": [],
   "source": [
    "#create dataframes for Northen and Southern Hemispheres\n",
    "n_hemi = clean_weather_data.loc[(clean_weather_data['Latitude'] > 0),:]\n",
    "s_hemi = clean_weather_data.loc[(clean_weather_data['Latitude'] < 0),:]\n"
   ]
  },
  {
   "cell_type": "code",
   "execution_count": 39,
   "metadata": {},
   "outputs": [],
   "source": [
    "# create a function for create the scatter plot\n",
    "def lazy_scatter(x_series, y_series):\n",
    "    #plot scatter\n",
    "    y_label = y_series.name\n",
    "    plt.scatter(x_series,y_series)\n",
    "    plt.xlabel('Latitude')\n",
    "    plt.ylabel(y_series.name)\n",
    "    #gather regression data\n",
    "    (slope, intercept, rvalue, pvalue, stderr) = stats.linregress(x_series, y_series)\n",
    "    regress_values = x_series * slope + intercept\n",
    "    plt.plot(x_series,regress_values,color=\"red\")\n",
    "    line_eq = \"y = \" + str(round(slope,2)) + \"x +\" + str(round(intercept,2))\n",
    "    print(f'line of best fit: {line_eq}.')\n",
    "    print(f'correlation: {rvalue}')\n",
    "    plt.show()"
   ]
  },
  {
   "cell_type": "markdown",
   "metadata": {},
   "source": [
    "####  Northern Hemisphere - Max Temp vs. Latitude Linear Regression"
   ]
  },
  {
   "cell_type": "code",
   "execution_count": 41,
   "metadata": {},
   "outputs": [
    {
     "name": "stdout",
     "output_type": "stream",
     "text": [
      "line of best fit: y = -0.45x +88.76.\n",
      "correlation: -0.6747498356724887\n"
     ]
    },
    {
     "data": {
      "image/png": "[encoded data removed]",
      "text/plain": [
       "<Figure size 432x288 with 1 Axes>"
      ]
     },
     "metadata": {
      "needs_background": "light"
     },
     "output_type": "display_data"
    }
   ],
   "source": [
    "lazy_scatter(n_hemi['Latitude'],n_hemi['Max Temp (F)'])"
   ]
  },
  {
   "cell_type": "markdown",
   "metadata": {},
   "source": [
    "####  Southern Hemisphere - Max Temp vs. Latitude Linear Regression"
   ]
  },
  {
   "cell_type": "code",
   "execution_count": 20,
   "metadata": {},
   "outputs": [
    {
     "name": "stdout",
     "output_type": "stream",
     "text": [
      "line of best fit: y = 0.89x +87.78.\n",
      "correlation: 0.8800608030700511\n"
     ]
    },
    {
     "data": {
      "image/png": "[encoded data removed]",
      "text/plain": [
       "<Figure size 432x288 with 1 Axes>"
      ]
     },
     "metadata": {
      "needs_background": "light"
     },
     "output_type": "display_data"
    }
   ],
   "source": [
    "lazy_scatter(s_hemi['Latitude'],s_hemi['Max Temp (F)'])"
   ]
  },
  {
   "cell_type": "markdown",
   "metadata": {},
   "source": [
    "####  Northern Hemisphere - Humidity (%) vs. Latitude Linear Regression"
   ]
  },
  {
   "cell_type": "code",
   "execution_count": 21,
   "metadata": {},
   "outputs": [
    {
     "name": "stdout",
     "output_type": "stream",
     "text": [
      "line of best fit: y = -0.04x +70.75.\n",
      "correlation: -0.03604614733250118\n"
     ]
    },
    {
     "data": {
      "image/png": "[encoded data removed]",
      "text/plain": [
       "<Figure size 432x288 with 1 Axes>"
      ]
     },
     "metadata": {
      "needs_background": "light"
     },
     "output_type": "display_data"
    }
   ],
   "source": [
    "lazy_scatter(n_hemi['Latitude'],n_hemi['Humidity (%)'])"
   ]
  },
  {
   "cell_type": "markdown",
   "metadata": {},
   "source": [
    "####  Southern Hemisphere - Humidity (%) vs. Latitude Linear Regression"
   ]
  },
  {
   "cell_type": "code",
   "execution_count": 22,
   "metadata": {},
   "outputs": [
    {
     "name": "stdout",
     "output_type": "stream",
     "text": [
      "line of best fit: y = 0.17x +77.74.\n",
      "correlation: 0.16051892924276132\n"
     ]
    },
    {
     "data": {
      "image/png": "[encoded data removed]",
      "text/plain": [
       "<Figure size 432x288 with 1 Axes>"
      ]
     },
     "metadata": {
      "needs_background": "light"
     },
     "output_type": "display_data"
    }
   ],
   "source": [
    "lazy_scatter(s_hemi['Latitude'],s_hemi['Humidity (%)'])"
   ]
  },
  {
   "cell_type": "markdown",
   "metadata": {},
   "source": [
    "####  Northern Hemisphere - Cloudiness (%) vs. Latitude Linear Regression"
   ]
  },
  {
   "cell_type": "code",
   "execution_count": 23,
   "metadata": {},
   "outputs": [
    {
     "name": "stdout",
     "output_type": "stream",
     "text": [
      "line of best fit: y = 0.23x +51.96.\n",
      "correlation: 0.13664434479734272\n"
     ]
    },
    {
     "data": {
      "image/png": "[encoded data removed]",
      "text/plain": [
       "<Figure size 432x288 with 1 Axes>"
      ]
     },
     "metadata": {
      "needs_background": "light"
     },
     "output_type": "display_data"
    }
   ],
   "source": [
    "lazy_scatter(n_hemi['Latitude'],n_hemi['Cloudiness (%)'])"
   ]
  },
  {
   "cell_type": "markdown",
   "metadata": {},
   "source": [
    "####  Southern Hemisphere - Cloudiness (%) vs. Latitude Linear Regression"
   ]
  },
  {
   "cell_type": "code",
   "execution_count": 24,
   "metadata": {},
   "outputs": [
    {
     "name": "stdout",
     "output_type": "stream",
     "text": [
      "line of best fit: y = -0.27x +30.71.\n",
      "correlation: -0.10277013192123531\n"
     ]
    },
    {
     "data": {
      "image/png": "[encoded data removed]",
      "text/plain": [
       "<Figure size 432x288 with 1 Axes>"
      ]
     },
     "metadata": {
      "needs_background": "light"
     },
     "output_type": "display_data"
    }
   ],
   "source": [
    "lazy_scatter(s_hemi['Latitude'],s_hemi['Cloudiness (%)'])"
   ]
  },
  {
   "cell_type": "markdown",
   "metadata": {},
   "source": [
    "####  Northern Hemisphere - Wind Speed (mph) vs. Latitude Linear Regression"
   ]
  },
  {
   "cell_type": "code",
   "execution_count": 26,
   "metadata": {},
   "outputs": [
    {
     "name": "stdout",
     "output_type": "stream",
     "text": [
      "line of best fit: y = 0.02x +4.85.\n",
      "correlation: 0.1357701459906008\n"
     ]
    },
    {
     "data": {
      "image/png": "[encoded data removed]",
      "text/plain": [
       "<Figure size 432x288 with 1 Axes>"
      ]
     },
     "metadata": {
      "needs_background": "light"
     },
     "output_type": "display_data"
    }
   ],
   "source": [
    "lazy_scatter(n_hemi['Latitude'],n_hemi['Wind Speed (mph)'])"
   ]
  },
  {
   "cell_type": "markdown",
   "metadata": {},
   "source": [
    "####  Southern Hemisphere - Wind Speed (mph) vs. Latitude Linear Regression"
   ]
  },
  {
   "cell_type": "code",
   "execution_count": 27,
   "metadata": {},
   "outputs": [
    {
     "name": "stdout",
     "output_type": "stream",
     "text": [
      "line of best fit: y = -0.17x +6.22.\n",
      "correlation: -0.30331668348931917\n"
     ]
    },
    {
     "data": {
      "image/png": "[encoded data removed]",
      "text/plain": [
       "<Figure size 432x288 with 1 Axes>"
      ]
     },
     "metadata": {
      "needs_background": "light"
     },
     "output_type": "display_data"
    }
   ],
   "source": [
    "lazy_scatter(s_hemi['Latitude'],s_hemi['Wind Speed (mph)'])"
   ]
  },
  {
   "cell_type": "code",
   "execution_count": null,
   "metadata": {},
   "outputs": [],
   "source": []
  },
  {
   "cell_type": "code",
   "execution_count": null,
   "metadata": {},
   "outputs": [],
   "source": []
  },
  {
   "cell_type": "code",
   "execution_count": null,
   "metadata": {},
   "outputs": [],
   "source": []
  },
  {
   "cell_type": "code",
   "execution_count": null,
   "metadata": {},
   "outputs": [],
   "source": []
  }
 ],
 "metadata": {
  "anaconda-cloud": {},
  "kernel_info": {
   "name": "python3"
  },
  "kernelspec": {
   "display_name": "Python 3",
   "language": "python",
   "name": "python3"
  },
  "language_info": {
   "codemirror_mode": {
    "name": "ipython",
    "version": 3
   },
   "file_extension": ".py",
   "mimetype": "text/x-python",
   "name": "python",
   "nbconvert_exporter": "python",
   "pygments_lexer": "ipython3",
   "version": "3.8.8"
  },
  "latex_envs": {
   "LaTeX_envs_menu_present": true,
   "autoclose": false,
   "autocomplete": true,
   "bibliofile": "biblio.bib",
   "cite_by": "apalike",
   "current_citInitial": 1,
   "eqLabelWithNumbers": true,
   "eqNumInitial": 1,
   "hotkeys": {
    "equation": "Ctrl-E",
    "itemize": "Ctrl-I"
   },
   "labels_anchors": false,
   "latex_user_defs": false,
   "report_style_numbering": false,
   "user_envs_cfg": false
  },
  "nteract": {
   "version": "0.12.3"
  }
 },
 "nbformat": 4,
 "nbformat_minor": 2
}
