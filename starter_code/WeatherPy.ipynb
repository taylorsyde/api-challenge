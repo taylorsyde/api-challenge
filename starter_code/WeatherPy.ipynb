{
 "cells": [
  {
   "cell_type": "markdown",
   "metadata": {},
   "source": [
    "# WeatherPy\n",
    "----\n",
    "\n",
    "#### Note\n",
    "* Instructions have been included for each segment. You do not have to follow them exactly, but they are included to help you think through the steps."
   ]
  },
  {
   "cell_type": "code",
   "execution_count": 1,
   "metadata": {
    "scrolled": true
   },
   "outputs": [],
   "source": [
    "# Dependencies and Setup\n",
    "import matplotlib.pyplot as plt\n",
    "import pandas as pd\n",
    "import numpy as np\n",
    "import requests\n",
    "import time\n",
    "from scipy.stats import linregress\n",
    "\n",
    "# Import API key\n",
    "from api_keys import weather_api_key\n",
    "\n",
    "# Incorporated citipy to determine city based on latitude and longitude\n",
    "from citipy import citipy\n",
    "\n",
    "# Output File (CSV)\n",
    "output_data_file = \"output_data/cities.csv\"\n",
    "\n",
    "# Range of latitudes and longitudes\n",
    "lat_range = (-90, 90)\n",
    "lng_range = (-180, 180)"
   ]
  },
  {
   "cell_type": "markdown",
   "metadata": {},
   "source": [
    "## Generate Cities List"
   ]
  },
  {
   "cell_type": "code",
   "execution_count": 2,
   "metadata": {},
   "outputs": [
    {
     "data": {
      "text/plain": [
       "624"
      ]
     },
     "execution_count": 2,
     "metadata": {},
     "output_type": "execute_result"
    }
   ],
   "source": [
    "# List for holding lat_lngs and cities\n",
    "lat_lngs = []\n",
    "cities = []\n",
    "\n",
    "# Create a set of random lat and lng combinations\n",
    "lats = np.random.uniform(lat_range[0], lat_range[1], size=1500)\n",
    "lngs = np.random.uniform(lng_range[0], lng_range[1], size=1500)\n",
    "lat_lngs = zip(lats, lngs)\n",
    "\n",
    "# Identify nearest city for each lat, lng combination\n",
    "for lat_lng in lat_lngs:\n",
    "    city = citipy.nearest_city(lat_lng[0], lat_lng[1]).city_name\n",
    "    \n",
    "    # If the city is unique, then add it to a our cities list\n",
    "    if city not in cities:\n",
    "        cities.append(city)\n",
    "\n",
    "# Print the city count to confirm sufficient count\n",
    "len(cities)"
   ]
  },
  {
   "cell_type": "markdown",
   "metadata": {},
   "source": [
    "### Perform API Calls\n",
    "* Perform a weather check on each city using a series of successive API calls.\n",
    "* Include a print log of each city as it'sbeing processed (with the city number and city name).\n"
   ]
  },
  {
   "cell_type": "code",
   "execution_count": 3,
   "metadata": {},
   "outputs": [],
   "source": [
    "# create empty lists to store data for dataframe\n",
    "city_list = []\n",
    "latitude = []\n",
    "temp = []\n",
    "humidity = []\n",
    "cloudiness = []\n",
    "wind_speed = []"
   ]
  },
  {
   "cell_type": "code",
   "execution_count": 4,
   "metadata": {
    "scrolled": true
   },
   "outputs": [],
   "source": [
    "#create query url for loop\n",
    "units = 'metric'\n",
    "query_url = f'http://api.openweathermap.org/data/2.5/weather?appid={weather_api_key}&units={units}&q='"
   ]
  },
  {
   "cell_type": "code",
   "execution_count": 5,
   "metadata": {},
   "outputs": [
    {
     "data": {
      "text/plain": [
       "1.79"
      ]
     },
     "execution_count": 5,
     "metadata": {},
     "output_type": "execute_result"
    }
   ],
   "source": [
    "test_response = requests.get(query_url + 'houston').json()\n",
    "test_response['wind']['speed']"
   ]
  },
  {
   "cell_type": "code",
   "execution_count": 6,
   "metadata": {},
   "outputs": [
    {
     "name": "stdout",
     "output_type": "stream",
     "text": [
      "Beginning Data Retrieval\n",
      "-----------------------------\n",
      "Processing Record 0 of Set 1 | teya\n",
      "Processing Record 1 of Set 1 | hithadhoo\n",
      "Processing Record 2 of Set 1 | port alfred\n",
      "Processing Record 3 of Set 1 | saskylakh\n",
      "Processing Record 4 of Set 1 | ribeira grande\n",
      "Processing Record 5 of Set 1 | barrow\n",
      "Processing Record 6 of Set 1 | nuuk\n",
      "Processing Record 7 of Set 1 | ziro\n",
      "Processing Record 8 of Set 1 | tuy hoa\n",
      "Processing Record 9 of Set 1 | grand gaube\n",
      "Processing Record 10 of Set 1 | tiznit\n",
      "Processing Record 11 of Set 1 | port elizabeth\n",
      "Processing Record 12 of Set 1 | praia da vitoria\n",
      "samusu not found. Skipping.\n",
      "Processing Record 14 of Set 1 | tiksi\n",
      "Processing Record 15 of Set 1 | avarua\n",
      "Processing Record 16 of Set 1 | rikitea\n",
      "Processing Record 17 of Set 1 | cidreira\n",
      "Processing Record 18 of Set 1 | georgetown\n",
      "Processing Record 19 of Set 1 | chicama\n",
      "Processing Record 20 of Set 1 | bermejo\n",
      "Processing Record 21 of Set 1 | bereda\n",
      "Processing Record 22 of Set 1 | puerto ayora\n",
      "Processing Record 23 of Set 1 | tigil\n",
      "Processing Record 24 of Set 1 | gat\n"
     ]
    }
   ],
   "source": [
    "print('Beginning Data Retrieval')\n",
    "print('-----------------------------')\n",
    "\n",
    "#create query url for loop\n",
    "query_url = f'http://api.openweathermap.org/data/2.5/weather?appid={weather_api_key}&units={units}&q='\n",
    "\n",
    "# loop through cities to collect currect weather data\n",
    "for city in cities[:25]:\n",
    "    # Create search query, make request and store in json\n",
    "    response_json = requests.get(query_url + city).json()\n",
    "    \n",
    "    # attempt to grab weather data from the cities\n",
    "    try:\n",
    "        latitude.append(response_json['coord']['lat'])\n",
    "        temp.append(response_json['main']['temp'])\n",
    "        humidity.append(response_json['main']['humidity'])\n",
    "        cloudiness.append(response_json['clouds']['all'])\n",
    "        wind_speed.append(response_json['wind']['speed'])\n",
    "        city_list.append(city)\n",
    "        #mass.append(response_json['results'][0]['mass'])\n",
    "        print(f'Processing Record {cities.index(city)} of Set 1 | {city}')\n",
    "        \n",
    "    # exceptions for a cities not found or errors\n",
    "    except:\n",
    "        print(f'{city} not found. Skipping.')\n",
    "        pass"
   ]
  },
  {
   "cell_type": "markdown",
   "metadata": {},
   "source": [
    "### Convert Raw Data to DataFrame\n",
    "* Export the city data into a .csv.\n",
    "* Display the DataFrame"
   ]
  },
  {
   "cell_type": "code",
   "execution_count": 8,
   "metadata": {},
   "outputs": [
    {
     "data": {
      "text/html": [
       "<div>\n",
       "<style scoped>\n",
       "    .dataframe tbody tr th:only-of-type {\n",
       "        vertical-align: middle;\n",
       "    }\n",
       "\n",
       "    .dataframe tbody tr th {\n",
       "        vertical-align: top;\n",
       "    }\n",
       "\n",
       "    .dataframe thead th {\n",
       "        text-align: right;\n",
       "    }\n",
       "</style>\n",
       "<table border=\"1\" class=\"dataframe\">\n",
       "  <thead>\n",
       "    <tr style=\"text-align: right;\">\n",
       "      <th></th>\n",
       "      <th>City</th>\n",
       "      <th>Latitude</th>\n",
       "      <th>Temperature (F)</th>\n",
       "      <th>Humidity (%)</th>\n",
       "      <th>Cloudiness (%)</th>\n",
       "      <th>Wind Speed (mph)</th>\n",
       "    </tr>\n",
       "  </thead>\n",
       "  <tbody>\n",
       "    <tr>\n",
       "      <th>0</th>\n",
       "      <td>teya</td>\n",
       "      <td>60.3778</td>\n",
       "      <td>24.73</td>\n",
       "      <td>42</td>\n",
       "      <td>89</td>\n",
       "      <td>1.06</td>\n",
       "    </tr>\n",
       "    <tr>\n",
       "      <th>1</th>\n",
       "      <td>hithadhoo</td>\n",
       "      <td>-0.6000</td>\n",
       "      <td>27.95</td>\n",
       "      <td>69</td>\n",
       "      <td>100</td>\n",
       "      <td>0.95</td>\n",
       "    </tr>\n",
       "    <tr>\n",
       "      <th>2</th>\n",
       "      <td>port alfred</td>\n",
       "      <td>-33.5906</td>\n",
       "      <td>15.44</td>\n",
       "      <td>49</td>\n",
       "      <td>90</td>\n",
       "      <td>4.08</td>\n",
       "    </tr>\n",
       "    <tr>\n",
       "      <th>3</th>\n",
       "      <td>saskylakh</td>\n",
       "      <td>71.9167</td>\n",
       "      <td>20.35</td>\n",
       "      <td>40</td>\n",
       "      <td>98</td>\n",
       "      <td>6.16</td>\n",
       "    </tr>\n",
       "    <tr>\n",
       "      <th>4</th>\n",
       "      <td>ribeira grande</td>\n",
       "      <td>38.5167</td>\n",
       "      <td>20.80</td>\n",
       "      <td>72</td>\n",
       "      <td>68</td>\n",
       "      <td>4.43</td>\n",
       "    </tr>\n",
       "    <tr>\n",
       "      <th>5</th>\n",
       "      <td>barrow</td>\n",
       "      <td>71.2906</td>\n",
       "      <td>4.01</td>\n",
       "      <td>85</td>\n",
       "      <td>90</td>\n",
       "      <td>4.12</td>\n",
       "    </tr>\n",
       "    <tr>\n",
       "      <th>6</th>\n",
       "      <td>nuuk</td>\n",
       "      <td>64.1835</td>\n",
       "      <td>6.34</td>\n",
       "      <td>93</td>\n",
       "      <td>75</td>\n",
       "      <td>2.57</td>\n",
       "    </tr>\n",
       "    <tr>\n",
       "      <th>7</th>\n",
       "      <td>ziro</td>\n",
       "      <td>27.6333</td>\n",
       "      <td>18.41</td>\n",
       "      <td>89</td>\n",
       "      <td>92</td>\n",
       "      <td>0.20</td>\n",
       "    </tr>\n",
       "    <tr>\n",
       "      <th>8</th>\n",
       "      <td>tuy hoa</td>\n",
       "      <td>13.0833</td>\n",
       "      <td>34.87</td>\n",
       "      <td>47</td>\n",
       "      <td>100</td>\n",
       "      <td>5.00</td>\n",
       "    </tr>\n",
       "    <tr>\n",
       "      <th>9</th>\n",
       "      <td>grand gaube</td>\n",
       "      <td>-20.0064</td>\n",
       "      <td>19.65</td>\n",
       "      <td>88</td>\n",
       "      <td>67</td>\n",
       "      <td>0.89</td>\n",
       "    </tr>\n",
       "    <tr>\n",
       "      <th>10</th>\n",
       "      <td>tiznit</td>\n",
       "      <td>29.5833</td>\n",
       "      <td>17.92</td>\n",
       "      <td>89</td>\n",
       "      <td>13</td>\n",
       "      <td>1.50</td>\n",
       "    </tr>\n",
       "    <tr>\n",
       "      <th>11</th>\n",
       "      <td>port elizabeth</td>\n",
       "      <td>-33.9180</td>\n",
       "      <td>7.16</td>\n",
       "      <td>93</td>\n",
       "      <td>0</td>\n",
       "      <td>1.03</td>\n",
       "    </tr>\n",
       "    <tr>\n",
       "      <th>12</th>\n",
       "      <td>praia da vitoria</td>\n",
       "      <td>38.7333</td>\n",
       "      <td>23.14</td>\n",
       "      <td>64</td>\n",
       "      <td>40</td>\n",
       "      <td>3.38</td>\n",
       "    </tr>\n",
       "    <tr>\n",
       "      <th>13</th>\n",
       "      <td>tiksi</td>\n",
       "      <td>71.6872</td>\n",
       "      <td>10.72</td>\n",
       "      <td>66</td>\n",
       "      <td>19</td>\n",
       "      <td>2.56</td>\n",
       "    </tr>\n",
       "    <tr>\n",
       "      <th>14</th>\n",
       "      <td>avarua</td>\n",
       "      <td>-21.2078</td>\n",
       "      <td>25.03</td>\n",
       "      <td>69</td>\n",
       "      <td>40</td>\n",
       "      <td>2.06</td>\n",
       "    </tr>\n",
       "    <tr>\n",
       "      <th>15</th>\n",
       "      <td>rikitea</td>\n",
       "      <td>-23.1203</td>\n",
       "      <td>23.59</td>\n",
       "      <td>76</td>\n",
       "      <td>4</td>\n",
       "      <td>6.31</td>\n",
       "    </tr>\n",
       "    <tr>\n",
       "      <th>16</th>\n",
       "      <td>cidreira</td>\n",
       "      <td>-30.1811</td>\n",
       "      <td>15.59</td>\n",
       "      <td>91</td>\n",
       "      <td>0</td>\n",
       "      <td>4.36</td>\n",
       "    </tr>\n",
       "    <tr>\n",
       "      <th>17</th>\n",
       "      <td>georgetown</td>\n",
       "      <td>5.4112</td>\n",
       "      <td>29.91</td>\n",
       "      <td>75</td>\n",
       "      <td>20</td>\n",
       "      <td>2.57</td>\n",
       "    </tr>\n",
       "    <tr>\n",
       "      <th>18</th>\n",
       "      <td>chicama</td>\n",
       "      <td>-7.8447</td>\n",
       "      <td>17.34</td>\n",
       "      <td>84</td>\n",
       "      <td>48</td>\n",
       "      <td>3.12</td>\n",
       "    </tr>\n",
       "    <tr>\n",
       "      <th>19</th>\n",
       "      <td>bermejo</td>\n",
       "      <td>-32.8833</td>\n",
       "      <td>13.95</td>\n",
       "      <td>38</td>\n",
       "      <td>75</td>\n",
       "      <td>3.60</td>\n",
       "    </tr>\n",
       "    <tr>\n",
       "      <th>20</th>\n",
       "      <td>bereda</td>\n",
       "      <td>43.2686</td>\n",
       "      <td>10.20</td>\n",
       "      <td>100</td>\n",
       "      <td>86</td>\n",
       "      <td>0.66</td>\n",
       "    </tr>\n",
       "    <tr>\n",
       "      <th>21</th>\n",
       "      <td>puerto ayora</td>\n",
       "      <td>-0.7393</td>\n",
       "      <td>20.86</td>\n",
       "      <td>90</td>\n",
       "      <td>93</td>\n",
       "      <td>3.13</td>\n",
       "    </tr>\n",
       "    <tr>\n",
       "      <th>22</th>\n",
       "      <td>tigil</td>\n",
       "      <td>57.8000</td>\n",
       "      <td>15.17</td>\n",
       "      <td>63</td>\n",
       "      <td>37</td>\n",
       "      <td>6.88</td>\n",
       "    </tr>\n",
       "    <tr>\n",
       "      <th>23</th>\n",
       "      <td>gat</td>\n",
       "      <td>31.6100</td>\n",
       "      <td>25.93</td>\n",
       "      <td>100</td>\n",
       "      <td>21</td>\n",
       "      <td>3.11</td>\n",
       "    </tr>\n",
       "  </tbody>\n",
       "</table>\n",
       "</div>"
      ],
      "text/plain": [
       "                City  Latitude  Temperature (F)  Humidity (%)  Cloudiness (%)  \\\n",
       "0               teya   60.3778            24.73            42              89   \n",
       "1          hithadhoo   -0.6000            27.95            69             100   \n",
       "2        port alfred  -33.5906            15.44            49              90   \n",
       "3          saskylakh   71.9167            20.35            40              98   \n",
       "4     ribeira grande   38.5167            20.80            72              68   \n",
       "5             barrow   71.2906             4.01            85              90   \n",
       "6               nuuk   64.1835             6.34            93              75   \n",
       "7               ziro   27.6333            18.41            89              92   \n",
       "8            tuy hoa   13.0833            34.87            47             100   \n",
       "9        grand gaube  -20.0064            19.65            88              67   \n",
       "10            tiznit   29.5833            17.92            89              13   \n",
       "11    port elizabeth  -33.9180             7.16            93               0   \n",
       "12  praia da vitoria   38.7333            23.14            64              40   \n",
       "13             tiksi   71.6872            10.72            66              19   \n",
       "14            avarua  -21.2078            25.03            69              40   \n",
       "15           rikitea  -23.1203            23.59            76               4   \n",
       "16          cidreira  -30.1811            15.59            91               0   \n",
       "17        georgetown    5.4112            29.91            75              20   \n",
       "18           chicama   -7.8447            17.34            84              48   \n",
       "19           bermejo  -32.8833            13.95            38              75   \n",
       "20            bereda   43.2686            10.20           100              86   \n",
       "21      puerto ayora   -0.7393            20.86            90              93   \n",
       "22             tigil   57.8000            15.17            63              37   \n",
       "23               gat   31.6100            25.93           100              21   \n",
       "\n",
       "    Wind Speed (mph)  \n",
       "0               1.06  \n",
       "1               0.95  \n",
       "2               4.08  \n",
       "3               6.16  \n",
       "4               4.43  \n",
       "5               4.12  \n",
       "6               2.57  \n",
       "7               0.20  \n",
       "8               5.00  \n",
       "9               0.89  \n",
       "10              1.50  \n",
       "11              1.03  \n",
       "12              3.38  \n",
       "13              2.56  \n",
       "14              2.06  \n",
       "15              6.31  \n",
       "16              4.36  \n",
       "17              2.57  \n",
       "18              3.12  \n",
       "19              3.60  \n",
       "20              0.66  \n",
       "21              3.13  \n",
       "22              6.88  \n",
       "23              3.11  "
      ]
     },
     "execution_count": 8,
     "metadata": {},
     "output_type": "execute_result"
    }
   ],
   "source": [
    "# Create DataFrame\n",
    "weather_data = pd.DataFrame({\n",
    "    'City': city_list,\n",
    "    'Latitude': latitude,\n",
    "    'Temperature (F)': temp,\n",
    "    'Humidity (%)': humidity,\n",
    "    'Cloudiness (%)': cloudiness,\n",
    "    'Wind Speed (mph)': wind_speed\n",
    "})\n",
    "\n",
    "weather_data\n",
    "#weather_data = weather_data.set_index('City')"
   ]
  },
  {
   "cell_type": "markdown",
   "metadata": {},
   "source": [
    "## Inspect the data and remove the cities where the humidity > 100%.\n",
    "----\n",
    "Skip this step if there are no cities that have humidity > 100%. "
   ]
  },
  {
   "cell_type": "code",
   "execution_count": null,
   "metadata": {},
   "outputs": [],
   "source": []
  },
  {
   "cell_type": "code",
   "execution_count": null,
   "metadata": {},
   "outputs": [],
   "source": [
    "#  Get the indices of cities that have humidity over 100%.\n"
   ]
  },
  {
   "cell_type": "code",
   "execution_count": null,
   "metadata": {},
   "outputs": [],
   "source": [
    "# Make a new DataFrame equal to the city data to drop all humidity outliers by index.\n",
    "# Passing \"inplace=False\" will make a copy of the city_data DataFrame, which we call \"clean_city_data\".\n"
   ]
  },
  {
   "cell_type": "code",
   "execution_count": null,
   "metadata": {},
   "outputs": [],
   "source": [
    "\n"
   ]
  },
  {
   "cell_type": "markdown",
   "metadata": {},
   "source": [
    "## Plotting the Data\n",
    "* Use proper labeling of the plots using plot titles (including date of analysis) and axes labels.\n",
    "* Save the plotted figures as .pngs."
   ]
  },
  {
   "cell_type": "markdown",
   "metadata": {},
   "source": [
    "## Latitude vs. Temperature Plot"
   ]
  },
  {
   "cell_type": "code",
   "execution_count": null,
   "metadata": {
    "scrolled": true
   },
   "outputs": [],
   "source": []
  },
  {
   "cell_type": "markdown",
   "metadata": {},
   "source": [
    "## Latitude vs. Humidity Plot"
   ]
  },
  {
   "cell_type": "code",
   "execution_count": null,
   "metadata": {},
   "outputs": [],
   "source": []
  },
  {
   "cell_type": "markdown",
   "metadata": {},
   "source": [
    "## Latitude vs. Cloudiness Plot"
   ]
  },
  {
   "cell_type": "code",
   "execution_count": null,
   "metadata": {},
   "outputs": [],
   "source": []
  },
  {
   "cell_type": "markdown",
   "metadata": {},
   "source": [
    "## Latitude vs. Wind Speed Plot"
   ]
  },
  {
   "cell_type": "code",
   "execution_count": null,
   "metadata": {},
   "outputs": [],
   "source": []
  },
  {
   "cell_type": "markdown",
   "metadata": {},
   "source": [
    "## Linear Regression"
   ]
  },
  {
   "cell_type": "code",
   "execution_count": null,
   "metadata": {},
   "outputs": [],
   "source": []
  },
  {
   "cell_type": "markdown",
   "metadata": {},
   "source": [
    "####  Northern Hemisphere - Max Temp vs. Latitude Linear Regression"
   ]
  },
  {
   "cell_type": "code",
   "execution_count": null,
   "metadata": {},
   "outputs": [],
   "source": []
  },
  {
   "cell_type": "markdown",
   "metadata": {},
   "source": [
    "####  Southern Hemisphere - Max Temp vs. Latitude Linear Regression"
   ]
  },
  {
   "cell_type": "code",
   "execution_count": null,
   "metadata": {},
   "outputs": [],
   "source": []
  },
  {
   "cell_type": "markdown",
   "metadata": {},
   "source": [
    "####  Northern Hemisphere - Humidity (%) vs. Latitude Linear Regression"
   ]
  },
  {
   "cell_type": "code",
   "execution_count": null,
   "metadata": {},
   "outputs": [],
   "source": []
  },
  {
   "cell_type": "markdown",
   "metadata": {},
   "source": [
    "####  Southern Hemisphere - Humidity (%) vs. Latitude Linear Regression"
   ]
  },
  {
   "cell_type": "code",
   "execution_count": null,
   "metadata": {},
   "outputs": [],
   "source": []
  },
  {
   "cell_type": "markdown",
   "metadata": {},
   "source": [
    "####  Northern Hemisphere - Cloudiness (%) vs. Latitude Linear Regression"
   ]
  },
  {
   "cell_type": "code",
   "execution_count": null,
   "metadata": {},
   "outputs": [],
   "source": []
  },
  {
   "cell_type": "markdown",
   "metadata": {},
   "source": [
    "####  Southern Hemisphere - Cloudiness (%) vs. Latitude Linear Regression"
   ]
  },
  {
   "cell_type": "code",
   "execution_count": null,
   "metadata": {},
   "outputs": [],
   "source": []
  },
  {
   "cell_type": "markdown",
   "metadata": {},
   "source": [
    "####  Northern Hemisphere - Wind Speed (mph) vs. Latitude Linear Regression"
   ]
  },
  {
   "cell_type": "code",
   "execution_count": null,
   "metadata": {},
   "outputs": [],
   "source": []
  },
  {
   "cell_type": "markdown",
   "metadata": {},
   "source": [
    "####  Southern Hemisphere - Wind Speed (mph) vs. Latitude Linear Regression"
   ]
  },
  {
   "cell_type": "code",
   "execution_count": null,
   "metadata": {},
   "outputs": [],
   "source": []
  },
  {
   "cell_type": "code",
   "execution_count": null,
   "metadata": {},
   "outputs": [],
   "source": []
  },
  {
   "cell_type": "code",
   "execution_count": null,
   "metadata": {},
   "outputs": [],
   "source": []
  },
  {
   "cell_type": "code",
   "execution_count": null,
   "metadata": {},
   "outputs": [],
   "source": []
  }
 ],
 "metadata": {
  "anaconda-cloud": {},
  "kernel_info": {
   "name": "python3"
  },
  "kernelspec": {
   "display_name": "PythonData",
   "language": "python",
   "name": "pythondata"
  },
  "language_info": {
   "codemirror_mode": {
    "name": "ipython",
    "version": 3
   },
   "file_extension": ".py",
   "mimetype": "text/x-python",
   "name": "python",
   "nbconvert_exporter": "python",
   "pygments_lexer": "ipython3",
   "version": "3.8.8"
  },
  "latex_envs": {
   "LaTeX_envs_menu_present": true,
   "autoclose": false,
   "autocomplete": true,
   "bibliofile": "biblio.bib",
   "cite_by": "apalike",
   "current_citInitial": 1,
   "eqLabelWithNumbers": true,
   "eqNumInitial": 1,
   "hotkeys": {
    "equation": "Ctrl-E",
    "itemize": "Ctrl-I"
   },
   "labels_anchors": false,
   "latex_user_defs": false,
   "report_style_numbering": false,
   "user_envs_cfg": false
  },
  "nteract": {
   "version": "0.12.3"
  }
 },
 "nbformat": 4,
 "nbformat_minor": 2
}
